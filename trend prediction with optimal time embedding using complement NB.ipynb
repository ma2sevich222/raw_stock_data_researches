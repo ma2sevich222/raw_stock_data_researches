{
  "nbformat": 4,
  "nbformat_minor": 0,
  "metadata": {
    "colab": {
      "provenance": [],
      "toc_visible": true,
      "mount_file_id": "136FH8OsquB20vRr70pnR84bfKlxJQcpi",
      "authorship_tag": "ABX9TyMFHKJQveSVpYPaDt8TfeYk",
      "include_colab_link": true
    },
    "kernelspec": {
      "name": "python3",
      "display_name": "Python 3"
    },
    "language_info": {
      "name": "python"
    }
  },
  "cells": [
    {
      "cell_type": "markdown",
      "metadata": {
        "id": "view-in-github",
        "colab_type": "text"
      },
      "source": [
        "<a href=\"https://colab.research.google.com/github/ma2sevich222/raw_stock_data_researches/blob/main/trend%20prediction%20with%20optimal%20time%20embedding%20using%20complement%20NB.ipynb\" target=\"_parent\"><img src=\"https://colab.research.google.com/assets/colab-badge.svg\" alt=\"Open In Colab\"/></a>"
      ]
    },
    {
      "cell_type": "code",
      "source": [
        "pip install -U giotto-tda"
      ],
      "metadata": {
        "colab": {
          "base_uri": "https://localhost:8080/"
        },
        "id": "lzFrV-K9oR-U",
        "outputId": "127b9c69-d8ea-432f-8f9b-2e1effde28e4"
      },
      "execution_count": null,
      "outputs": [
        {
          "output_type": "stream",
          "name": "stdout",
          "text": [
            "Looking in indexes: https://pypi.org/simple, https://us-python.pkg.dev/colab-wheels/public/simple/\n",
            "Collecting giotto-tda\n",
            "  Downloading giotto_tda-0.6.0-cp38-cp38-manylinux_2_17_x86_64.manylinux2014_x86_64.whl (1.3 MB)\n",
            "\u001b[2K     \u001b[90m━━━━━━━━━━━━━━━━━━━━━━━━━━━━━━━━━━━━━━━━\u001b[0m \u001b[32m1.3/1.3 MB\u001b[0m \u001b[31m19.9 MB/s\u001b[0m eta \u001b[36m0:00:00\u001b[0m\n",
            "\u001b[?25hCollecting pyflagser>=0.4.3\n",
            "  Downloading pyflagser-0.4.5-cp38-cp38-manylinux_2_17_x86_64.manylinux2014_x86_64.whl (452 kB)\n",
            "\u001b[2K     \u001b[90m━━━━━━━━━━━━━━━━━━━━━━━━━━━━━━━━━━━━━━\u001b[0m \u001b[32m452.6/452.6 KB\u001b[0m \u001b[31m35.7 MB/s\u001b[0m eta \u001b[36m0:00:00\u001b[0m\n",
            "\u001b[?25hRequirement already satisfied: scikit-learn>=0.23.1 in /usr/local/lib/python3.8/dist-packages (from giotto-tda) (1.0.2)\n",
            "Collecting giotto-ph>=0.2.1\n",
            "  Downloading giotto_ph-0.2.2-cp38-cp38-manylinux_2_17_x86_64.manylinux2014_x86_64.whl (526 kB)\n",
            "\u001b[2K     \u001b[90m━━━━━━━━━━━━━━━━━━━━━━━━━━━━━━━━━━━━━━\u001b[0m \u001b[32m526.1/526.1 KB\u001b[0m \u001b[31m41.3 MB/s\u001b[0m eta \u001b[36m0:00:00\u001b[0m\n",
            "\u001b[?25hRequirement already satisfied: ipywidgets>=7.5.1 in /usr/local/lib/python3.8/dist-packages (from giotto-tda) (7.7.1)\n",
            "Collecting igraph>=0.9.8\n",
            "  Downloading igraph-0.10.3-cp38-cp38-manylinux_2_17_x86_64.manylinux2014_x86_64.whl (3.3 MB)\n",
            "\u001b[2K     \u001b[90m━━━━━━━━━━━━━━━━━━━━━━━━━━━━━━━━━━━━━━━━\u001b[0m \u001b[32m3.3/3.3 MB\u001b[0m \u001b[31m65.1 MB/s\u001b[0m eta \u001b[36m0:00:00\u001b[0m\n",
            "\u001b[?25hRequirement already satisfied: plotly>=4.8.2 in /usr/local/lib/python3.8/dist-packages (from giotto-tda) (5.5.0)\n",
            "Requirement already satisfied: joblib>=0.16.0 in /usr/local/lib/python3.8/dist-packages (from giotto-tda) (1.2.0)\n",
            "Requirement already satisfied: numpy>=1.19.1 in /usr/local/lib/python3.8/dist-packages (from giotto-tda) (1.21.6)\n",
            "Requirement already satisfied: scipy>=1.5.0 in /usr/local/lib/python3.8/dist-packages (from giotto-tda) (1.7.3)\n",
            "Collecting texttable>=1.6.2\n",
            "  Downloading texttable-1.6.7-py2.py3-none-any.whl (10 kB)\n",
            "Requirement already satisfied: widgetsnbextension~=3.6.0 in /usr/local/lib/python3.8/dist-packages (from ipywidgets>=7.5.1->giotto-tda) (3.6.1)\n",
            "Requirement already satisfied: ipykernel>=4.5.1 in /usr/local/lib/python3.8/dist-packages (from ipywidgets>=7.5.1->giotto-tda) (5.3.4)\n",
            "Requirement already satisfied: traitlets>=4.3.1 in /usr/local/lib/python3.8/dist-packages (from ipywidgets>=7.5.1->giotto-tda) (5.7.1)\n",
            "Requirement already satisfied: ipython>=4.0.0 in /usr/local/lib/python3.8/dist-packages (from ipywidgets>=7.5.1->giotto-tda) (7.9.0)\n",
            "Requirement already satisfied: jupyterlab-widgets>=1.0.0 in /usr/local/lib/python3.8/dist-packages (from ipywidgets>=7.5.1->giotto-tda) (3.0.5)\n",
            "Requirement already satisfied: ipython-genutils~=0.2.0 in /usr/local/lib/python3.8/dist-packages (from ipywidgets>=7.5.1->giotto-tda) (0.2.0)\n",
            "Requirement already satisfied: tenacity>=6.2.0 in /usr/local/lib/python3.8/dist-packages (from plotly>=4.8.2->giotto-tda) (8.1.0)\n",
            "Requirement already satisfied: six in /usr/local/lib/python3.8/dist-packages (from plotly>=4.8.2->giotto-tda) (1.15.0)\n",
            "Requirement already satisfied: threadpoolctl>=2.0.0 in /usr/local/lib/python3.8/dist-packages (from scikit-learn>=0.23.1->giotto-tda) (3.1.0)\n",
            "Requirement already satisfied: jupyter-client in /usr/local/lib/python3.8/dist-packages (from ipykernel>=4.5.1->ipywidgets>=7.5.1->giotto-tda) (6.1.12)\n",
            "Requirement already satisfied: tornado>=4.2 in /usr/local/lib/python3.8/dist-packages (from ipykernel>=4.5.1->ipywidgets>=7.5.1->giotto-tda) (6.0.4)\n",
            "Requirement already satisfied: pickleshare in /usr/local/lib/python3.8/dist-packages (from ipython>=4.0.0->ipywidgets>=7.5.1->giotto-tda) (0.7.5)\n",
            "Requirement already satisfied: setuptools>=18.5 in /usr/local/lib/python3.8/dist-packages (from ipython>=4.0.0->ipywidgets>=7.5.1->giotto-tda) (57.4.0)\n",
            "Requirement already satisfied: decorator in /usr/local/lib/python3.8/dist-packages (from ipython>=4.0.0->ipywidgets>=7.5.1->giotto-tda) (4.4.2)\n",
            "Requirement already satisfied: pygments in /usr/local/lib/python3.8/dist-packages (from ipython>=4.0.0->ipywidgets>=7.5.1->giotto-tda) (2.6.1)\n",
            "Collecting jedi>=0.10\n",
            "  Downloading jedi-0.18.2-py2.py3-none-any.whl (1.6 MB)\n",
            "\u001b[2K     \u001b[90m━━━━━━━━━━━━━━━━━━━━━━━━━━━━━━━━━━━━━━━━\u001b[0m \u001b[32m1.6/1.6 MB\u001b[0m \u001b[31m68.0 MB/s\u001b[0m eta \u001b[36m0:00:00\u001b[0m\n",
            "\u001b[?25hRequirement already satisfied: pexpect in /usr/local/lib/python3.8/dist-packages (from ipython>=4.0.0->ipywidgets>=7.5.1->giotto-tda) (4.8.0)\n",
            "Requirement already satisfied: prompt-toolkit<2.1.0,>=2.0.0 in /usr/local/lib/python3.8/dist-packages (from ipython>=4.0.0->ipywidgets>=7.5.1->giotto-tda) (2.0.10)\n",
            "Requirement already satisfied: backcall in /usr/local/lib/python3.8/dist-packages (from ipython>=4.0.0->ipywidgets>=7.5.1->giotto-tda) (0.2.0)\n",
            "Requirement already satisfied: notebook>=4.4.1 in /usr/local/lib/python3.8/dist-packages (from widgetsnbextension~=3.6.0->ipywidgets>=7.5.1->giotto-tda) (5.7.16)\n",
            "Requirement already satisfied: parso<0.9.0,>=0.8.0 in /usr/local/lib/python3.8/dist-packages (from jedi>=0.10->ipython>=4.0.0->ipywidgets>=7.5.1->giotto-tda) (0.8.3)\n",
            "Requirement already satisfied: prometheus-client in /usr/local/lib/python3.8/dist-packages (from notebook>=4.4.1->widgetsnbextension~=3.6.0->ipywidgets>=7.5.1->giotto-tda) (0.15.0)\n",
            "Requirement already satisfied: jinja2<=3.0.0 in /usr/local/lib/python3.8/dist-packages (from notebook>=4.4.1->widgetsnbextension~=3.6.0->ipywidgets>=7.5.1->giotto-tda) (2.11.3)\n",
            "Requirement already satisfied: pyzmq>=17 in /usr/local/lib/python3.8/dist-packages (from notebook>=4.4.1->widgetsnbextension~=3.6.0->ipywidgets>=7.5.1->giotto-tda) (23.2.1)\n",
            "Requirement already satisfied: terminado>=0.8.1 in /usr/local/lib/python3.8/dist-packages (from notebook>=4.4.1->widgetsnbextension~=3.6.0->ipywidgets>=7.5.1->giotto-tda) (0.13.3)\n",
            "Requirement already satisfied: nbconvert<6.0 in /usr/local/lib/python3.8/dist-packages (from notebook>=4.4.1->widgetsnbextension~=3.6.0->ipywidgets>=7.5.1->giotto-tda) (5.6.1)\n",
            "Requirement already satisfied: jupyter-core>=4.4.0 in /usr/local/lib/python3.8/dist-packages (from notebook>=4.4.1->widgetsnbextension~=3.6.0->ipywidgets>=7.5.1->giotto-tda) (5.1.3)\n",
            "Requirement already satisfied: Send2Trash in /usr/local/lib/python3.8/dist-packages (from notebook>=4.4.1->widgetsnbextension~=3.6.0->ipywidgets>=7.5.1->giotto-tda) (1.8.0)\n",
            "Requirement already satisfied: nbformat in /usr/local/lib/python3.8/dist-packages (from notebook>=4.4.1->widgetsnbextension~=3.6.0->ipywidgets>=7.5.1->giotto-tda) (5.7.1)\n",
            "Requirement already satisfied: python-dateutil>=2.1 in /usr/local/lib/python3.8/dist-packages (from jupyter-client->ipykernel>=4.5.1->ipywidgets>=7.5.1->giotto-tda) (2.8.2)\n",
            "Requirement already satisfied: wcwidth in /usr/local/lib/python3.8/dist-packages (from prompt-toolkit<2.1.0,>=2.0.0->ipython>=4.0.0->ipywidgets>=7.5.1->giotto-tda) (0.2.5)\n",
            "Requirement already satisfied: ptyprocess>=0.5 in /usr/local/lib/python3.8/dist-packages (from pexpect->ipython>=4.0.0->ipywidgets>=7.5.1->giotto-tda) (0.7.0)\n",
            "Requirement already satisfied: MarkupSafe>=0.23 in /usr/local/lib/python3.8/dist-packages (from jinja2<=3.0.0->notebook>=4.4.1->widgetsnbextension~=3.6.0->ipywidgets>=7.5.1->giotto-tda) (2.0.1)\n",
            "Requirement already satisfied: platformdirs>=2.5 in /usr/local/lib/python3.8/dist-packages (from jupyter-core>=4.4.0->notebook>=4.4.1->widgetsnbextension~=3.6.0->ipywidgets>=7.5.1->giotto-tda) (2.6.2)\n",
            "Requirement already satisfied: pandocfilters>=1.4.1 in /usr/local/lib/python3.8/dist-packages (from nbconvert<6.0->notebook>=4.4.1->widgetsnbextension~=3.6.0->ipywidgets>=7.5.1->giotto-tda) (1.5.0)\n",
            "Requirement already satisfied: entrypoints>=0.2.2 in /usr/local/lib/python3.8/dist-packages (from nbconvert<6.0->notebook>=4.4.1->widgetsnbextension~=3.6.0->ipywidgets>=7.5.1->giotto-tda) (0.4)\n",
            "Requirement already satisfied: defusedxml in /usr/local/lib/python3.8/dist-packages (from nbconvert<6.0->notebook>=4.4.1->widgetsnbextension~=3.6.0->ipywidgets>=7.5.1->giotto-tda) (0.7.1)\n",
            "Requirement already satisfied: mistune<2,>=0.8.1 in /usr/local/lib/python3.8/dist-packages (from nbconvert<6.0->notebook>=4.4.1->widgetsnbextension~=3.6.0->ipywidgets>=7.5.1->giotto-tda) (0.8.4)\n",
            "Requirement already satisfied: testpath in /usr/local/lib/python3.8/dist-packages (from nbconvert<6.0->notebook>=4.4.1->widgetsnbextension~=3.6.0->ipywidgets>=7.5.1->giotto-tda) (0.6.0)\n",
            "Requirement already satisfied: bleach in /usr/local/lib/python3.8/dist-packages (from nbconvert<6.0->notebook>=4.4.1->widgetsnbextension~=3.6.0->ipywidgets>=7.5.1->giotto-tda) (5.0.1)\n",
            "Requirement already satisfied: fastjsonschema in /usr/local/lib/python3.8/dist-packages (from nbformat->notebook>=4.4.1->widgetsnbextension~=3.6.0->ipywidgets>=7.5.1->giotto-tda) (2.16.2)\n",
            "Requirement already satisfied: jsonschema>=2.6 in /usr/local/lib/python3.8/dist-packages (from nbformat->notebook>=4.4.1->widgetsnbextension~=3.6.0->ipywidgets>=7.5.1->giotto-tda) (4.3.3)\n",
            "Requirement already satisfied: importlib-resources>=1.4.0 in /usr/local/lib/python3.8/dist-packages (from jsonschema>=2.6->nbformat->notebook>=4.4.1->widgetsnbextension~=3.6.0->ipywidgets>=7.5.1->giotto-tda) (5.10.2)\n",
            "Requirement already satisfied: attrs>=17.4.0 in /usr/local/lib/python3.8/dist-packages (from jsonschema>=2.6->nbformat->notebook>=4.4.1->widgetsnbextension~=3.6.0->ipywidgets>=7.5.1->giotto-tda) (22.2.0)\n",
            "Requirement already satisfied: pyrsistent!=0.17.0,!=0.17.1,!=0.17.2,>=0.14.0 in /usr/local/lib/python3.8/dist-packages (from jsonschema>=2.6->nbformat->notebook>=4.4.1->widgetsnbextension~=3.6.0->ipywidgets>=7.5.1->giotto-tda) (0.19.3)\n",
            "Requirement already satisfied: webencodings in /usr/local/lib/python3.8/dist-packages (from bleach->nbconvert<6.0->notebook>=4.4.1->widgetsnbextension~=3.6.0->ipywidgets>=7.5.1->giotto-tda) (0.5.1)\n",
            "Requirement already satisfied: zipp>=3.1.0 in /usr/local/lib/python3.8/dist-packages (from importlib-resources>=1.4.0->jsonschema>=2.6->nbformat->notebook>=4.4.1->widgetsnbextension~=3.6.0->ipywidgets>=7.5.1->giotto-tda) (3.11.0)\n",
            "Installing collected packages: texttable, jedi, igraph, pyflagser, giotto-ph, giotto-tda\n",
            "Successfully installed giotto-ph-0.2.2 giotto-tda-0.6.0 igraph-0.10.3 jedi-0.18.2 pyflagser-0.4.5 texttable-1.6.7\n"
          ]
        }
      ]
    },
    {
      "cell_type": "code",
      "execution_count": null,
      "metadata": {
        "id": "VziCAiQJm822"
      },
      "outputs": [],
      "source": [
        "from sklearn.naive_bayes import ComplementNB\n",
        "from sklearn.tree import DecisionTreeClassifier\n",
        "import numpy as np\n",
        "import pandas as pd\n",
        "#from gtda.time_series import takens_embedding_optimal_parameters\n",
        "import numpy as np\n",
        "from sklearn.decomposition import NMF\n",
        "from sklearn.naive_bayes import ComplementNB\n",
        "#from sklearn.tree import DecisionTreeClassifier\n",
        "from sklearn.preprocessing import MinMaxScaler\n",
        "from sklearn.ensemble import RandomForestClassifier"
      ]
    },
    {
      "cell_type": "code",
      "source": [
        "def nmf_decompose(array, n_components):\n",
        "  model = NMF(n_components=n_components)\n",
        "  W = model.fit_transform(array)\n",
        "  H = model.components_\n",
        "  return W, H\n",
        "\n",
        "\n",
        "\n",
        "def normalize_columns(X, min_val=0, max_val=1):\n",
        "    X_norm = np.zeros_like(X)\n",
        "    for i in range(X.shape[1]):\n",
        "        col = X[:, i]\n",
        "        col_min = col.min()\n",
        "        col_max = col.max()\n",
        "        if col_max == col_min:\n",
        "            col_norm = np.zeros_like(col)\n",
        "        else:\n",
        "            col_norm = (col - col_min) / (col_max - col_min)\n",
        "            col_norm = min_val + (max_val - min_val) * col_norm\n",
        "        X_norm[:, i] = col_norm\n",
        "    return X_norm\n",
        "\n",
        "\n",
        "def get_train_data(train_df, pattern_size, column_list):\n",
        "  \n",
        "  patterns = []\n",
        "  labels = []\n",
        "  for i in range(0 ,train_df.shape[0] + 1, pattern_size):\n",
        "    if i - pattern_size >=0:\n",
        "      sample = train_df.iloc[i - pattern_size : i]\n",
        "      sample = sample.reset_index()\n",
        "      labels.append(sample[\"Label\"].iloc[-1])\n",
        "      \n",
        "      sample_arr = normalize_columns(sample[column_list].values)\n",
        "      #_, H = nmf_decompose(sample_arr, 8)\n",
        "      patterns.append(sample_arr.flatten())\n",
        "\n",
        "  return np.array(patterns), np.array(labels)\n",
        "\n",
        "\n",
        "def get_test_data(test_df,eval_df, pattern_size, column_list):\n",
        "\n",
        "  test_patterns = []\n",
        "  test_frame = pd.DataFrame(columns = [\"Datetime\", \"Open\", \"High\", \"Low\", \"Close\", \"Volume\"])\n",
        "  for i in range(0 ,test_df.shape[0] + 1, pattern_size):\n",
        "    if i - pattern_size >=0:\n",
        "      sample = test_df.iloc[i - pattern_size : i]\n",
        "      eval_data_ = eval_df.iloc[i - pattern_size : i]\n",
        "      test_frame = test_frame.append(eval_data_[[\"Datetime\", \"Open\", \"High\", \"Low\", \"Close\", \"Volume\"]].iloc[-1], ignore_index=True)\n",
        "      sample_arr = normalize_columns(sample[column_list].values)\n",
        "      #_, H = nmf_decompose(sample_arr, 8)\n",
        "      test_patterns.append(sample_arr.flatten())\n",
        "\n",
        "\n",
        "  return np.array(test_patterns), test_frame"
      ],
      "metadata": {
        "id": "grFJdJwrTghP"
      },
      "execution_count": null,
      "outputs": []
    },
    {
      "cell_type": "code",
      "source": [
        "df = pd.read_csv('/content/drive/MyDrive/working_dir/fixed_Apate_V4_dataset_GC_5min.csv')\n",
        "#df.replace([np.inf, -np.inf], np.nan, inplace=True)\n",
        "#df.dropna( how=\"all\", inplace=True)"
      ],
      "metadata": {
        "id": "_vQh2XyepjAr"
      },
      "execution_count": null,
      "outputs": []
    },
    {
      "cell_type": "code",
      "source": [
        "'''count = np.isinf(df.iloc[:,1:]).values.sum()\n",
        "print(\"It contains \" + str(count) + \" infinite values\")'''"
      ],
      "metadata": {
        "colab": {
          "base_uri": "https://localhost:8080/"
        },
        "id": "wGpqXTK332mq",
        "outputId": "c2599a23-6629-4b19-a9ce-2d0412970fb4"
      },
      "execution_count": null,
      "outputs": [
        {
          "output_type": "stream",
          "name": "stdout",
          "text": [
            "It contains 0 infinite values\n"
          ]
        }
      ]
    },
    {
      "cell_type": "code",
      "source": [
        "colums_list = [\"Open\", \"High\",\"Low\", \"Close\", \"Volume\", \"ema12\" ,\t\"ema24\", \"macd\", \"signal\" ,\"histogram\", \"rsi\", \"momentum\", \"WVAP\", \"+band\", \"-band\"]"
      ],
      "metadata": {
        "id": "Y2BmSuJfslvr"
      },
      "execution_count": null,
      "outputs": []
    },
    {
      "cell_type": "code",
      "source": [
        "#colums_list = [\"Open\", \"High\",\"Low\", \"Close\", \"Volume\"]"
      ],
      "metadata": {
        "id": "-HChuCIJ-4_s"
      },
      "execution_count": null,
      "outputs": []
    },
    {
      "cell_type": "code",
      "source": [
        "diff_df = df.iloc[:,1:].diff()\n",
        "diff_df.fillna(0, inplace=True)\n",
        "diff_df[\"Datetime\"] = df[\"Datetime\"].values\n",
        "diff_df[\"Label\"] = df[\"Label\"].values"
      ],
      "metadata": {
        "id": "N_2U6rgLprCO"
      },
      "execution_count": null,
      "outputs": []
    },
    {
      "cell_type": "code",
      "source": [
        "'''count = np.isinf(diff_df[colums_list]).values.sum()\n",
        "print(\"It contains \" + str(count) + \" infinite values\")'''"
      ],
      "metadata": {
        "colab": {
          "base_uri": "https://localhost:8080/",
          "height": 35
        },
        "id": "x_Mcmt7Y4D1L",
        "outputId": "2cf8db1f-7cd2-4fed-9215-f35f53763784"
      },
      "execution_count": null,
      "outputs": [
        {
          "output_type": "execute_result",
          "data": {
            "text/plain": [
              "'count = np.isinf(diff_df[colums_list]).values.sum()\\nprint(\"It contains \" + str(count) + \" infinite values\")'"
            ],
            "application/vnd.google.colaboratory.intrinsic+json": {
              "type": "string"
            }
          },
          "metadata": {},
          "execution_count": 147
        }
      ]
    },
    {
      "cell_type": "code",
      "source": [
        "'''for name in colums_list:\n",
        "  X = diff_df[name].values[:10000]\n",
        "  print(f\"{name} - {takens_embedding_optimal_parameters(X, 12, 100,)}\")'''"
      ],
      "metadata": {
        "colab": {
          "base_uri": "https://localhost:8080/",
          "height": 35
        },
        "id": "AdLxUxXot3yF",
        "outputId": "da0fbd4c-8c43-4f46-8d65-ec358943b3e2"
      },
      "execution_count": null,
      "outputs": [
        {
          "output_type": "execute_result",
          "data": {
            "text/plain": [
              "'for name in colums_list:\\n  X = diff_df[name].values[:10000]\\n  print(f\"{name} - {takens_embedding_optimal_parameters(X, 12, 100,)}\")'"
            ],
            "application/vnd.google.colaboratory.intrinsic+json": {
              "type": "string"
            }
          },
          "metadata": {},
          "execution_count": 133
        }
      ]
    },
    {
      "cell_type": "code",
      "source": [
        "pattern_size = 12"
      ],
      "metadata": {
        "id": "MRgPc1PngPjh"
      },
      "execution_count": null,
      "outputs": []
    },
    {
      "cell_type": "code",
      "source": [
        "''' dates\n",
        "2022-05-30 00:00:00\n",
        "2022-06-30 00:00:00\n",
        "2022-07-30 00:00:00\n",
        "2022-08-24 13:40:00'''\n"
      ],
      "metadata": {
        "id": "8SneZtryzZGv"
      },
      "execution_count": null,
      "outputs": []
    },
    {
      "cell_type": "code",
      "source": [
        "train_df = diff_df.iloc[:50000]\n",
        "test_df = diff_df.iloc[50000:55000]\n",
        "eval_df = df.iloc[50000:55000]"
      ],
      "metadata": {
        "id": "0IOOmVIXfUY4"
      },
      "execution_count": null,
      "outputs": []
    },
    {
      "cell_type": "code",
      "source": [
        "#buyes_train_df = train_df[:len(train_df)//2]\n",
        "#des_tr_df = train_df[len(train_df)//2:]\n",
        "#buyes_train_df=buyes_train_df.reset_index(drop=True)\n",
        "#des_tr_df = des_tr_df.reset_index(drop=True)\n",
        "Train_X_buyes,labels_buyes = get_train_data(train_df, pattern_size, colums_list)\n",
        "#Train_X_des_tr, labels_des_tr = get_train_data(des_tr_df, pattern_size, colums_list)"
      ],
      "metadata": {
        "id": "nLJrtDBdfm5N"
      },
      "execution_count": null,
      "outputs": []
    },
    {
      "cell_type": "code",
      "source": [
        "b_clf = ComplementNB()\n",
        "b_clf.fit(Train_X_buyes, labels_buyes)\n",
        "#probas = b_clf.predict_proba(Train_X_des_tr)\n",
        "#des_tr_clf = RandomForestClassifier(random_state=0)\n",
        "#des_tr_clf.fit(probas, labels_des_tr)"
      ],
      "metadata": {
        "colab": {
          "base_uri": "https://localhost:8080/"
        },
        "id": "aStKT0fOrqov",
        "outputId": "62a08a8d-b215-4daa-ad86-d6dd643d5813"
      },
      "execution_count": null,
      "outputs": [
        {
          "output_type": "execute_result",
          "data": {
            "text/plain": [
              "ComplementNB()"
            ]
          },
          "metadata": {},
          "execution_count": 10
        }
      ]
    },
    {
      "cell_type": "code",
      "source": [
        "test_patterns, eval_frame = get_test_data(test_df, eval_df, pattern_size, colums_list)"
      ],
      "metadata": {
        "id": "BOfvvI6SQhND"
      },
      "execution_count": null,
      "outputs": []
    },
    {
      "cell_type": "code",
      "source": [
        "\n",
        "Signal = []\n",
        "sell_prob = []\n",
        "buy_prob = []\n",
        "for test_array in test_patterns:\n",
        "  pred = b_clf.predict(test_array.reshape(1, -1))\n",
        "  #prob = b_clf.predict_proba(test_array.reshape(1, -1))\n",
        "  #pred = des_tr_clf.predict(prob.reshape(1, -1))\n",
        "  #sell_prob.append(prob[0][0])\n",
        "  #buy_prob.append(prob[0][1])\n",
        "  if pred ==0:\n",
        "    Signal.append(-1)\n",
        "  else:\n",
        "    Signal.append(int(pred))"
      ],
      "metadata": {
        "id": "wzJrDiF2VXQf"
      },
      "execution_count": null,
      "outputs": []
    },
    {
      "cell_type": "code",
      "source": [],
      "metadata": {
        "id": "YdEk9r9FzVAG"
      },
      "execution_count": null,
      "outputs": []
    },
    {
      "cell_type": "code",
      "source": [
        "eval_frame[\"Signal\"] = Signal\n",
        "eval_frame[\"sell_prob\"] = sell_prob\n",
        "eval_frame[\"buy_prob\"] = buy_prob"
      ],
      "metadata": {
        "id": "eTcp94FyXMwn"
      },
      "execution_count": null,
      "outputs": []
    },
    {
      "cell_type": "code",
      "source": [
        "eval_frame"
      ],
      "metadata": {
        "colab": {
          "base_uri": "https://localhost:8080/",
          "height": 424
        },
        "id": "Y5dL9XBgXc05",
        "outputId": "176f1a13-5f39-4b4c-9683-37f6c1e7ba74"
      },
      "execution_count": null,
      "outputs": [
        {
          "output_type": "execute_result",
          "data": {
            "text/plain": [
              "                Datetime    Open    High     Low   Close  Volume  Signal  \\\n",
              "0    2019-09-26 07:40:00  1513.8  1514.4  1513.4  1514.3   566.0       0   \n",
              "1    2019-09-26 08:40:00  1514.8  1515.1  1514.4  1514.8   612.0      -1   \n",
              "2    2019-09-26 09:40:00  1514.4  1514.5  1514.0  1514.1   228.0      -1   \n",
              "3    2019-09-26 10:40:00  1516.7  1517.3  1516.6  1516.6  1368.0       1   \n",
              "4    2019-09-26 11:40:00  1514.3  1514.3  1513.7  1514.2   723.0       1   \n",
              "..                   ...     ...     ...     ...     ...     ...     ...   \n",
              "411  2019-10-23 00:40:00  1492.7  1493.0  1492.5  1492.9   208.0       1   \n",
              "412  2019-10-23 01:40:00  1491.5  1491.9  1491.5  1491.7   303.0      -1   \n",
              "413  2019-10-23 02:40:00  1491.4  1491.6  1491.3  1491.5   260.0      -1   \n",
              "414  2019-10-23 03:40:00  1492.1  1492.2  1492.0  1492.2   131.0      -1   \n",
              "415  2019-10-23 04:40:00  1492.4  1492.7  1492.4  1492.6    83.0      -1   \n",
              "\n",
              "     sell_prob  buy_prob  \n",
              "0     0.492794  0.507206  \n",
              "1     0.735353  0.264647  \n",
              "2     0.745692  0.254308  \n",
              "3     0.219307  0.780693  \n",
              "4     0.583543  0.416457  \n",
              "..         ...       ...  \n",
              "411   0.125510  0.874490  \n",
              "412   0.818192  0.181808  \n",
              "413   0.591192  0.408808  \n",
              "414   0.686396  0.313604  \n",
              "415   0.412668  0.587332  \n",
              "\n",
              "[416 rows x 9 columns]"
            ],
            "text/html": [
              "\n",
              "  <div id=\"df-11de44f9-9fbb-4fcf-a0ca-f70a50d88476\">\n",
              "    <div class=\"colab-df-container\">\n",
              "      <div>\n",
              "<style scoped>\n",
              "    .dataframe tbody tr th:only-of-type {\n",
              "        vertical-align: middle;\n",
              "    }\n",
              "\n",
              "    .dataframe tbody tr th {\n",
              "        vertical-align: top;\n",
              "    }\n",
              "\n",
              "    .dataframe thead th {\n",
              "        text-align: right;\n",
              "    }\n",
              "</style>\n",
              "<table border=\"1\" class=\"dataframe\">\n",
              "  <thead>\n",
              "    <tr style=\"text-align: right;\">\n",
              "      <th></th>\n",
              "      <th>Datetime</th>\n",
              "      <th>Open</th>\n",
              "      <th>High</th>\n",
              "      <th>Low</th>\n",
              "      <th>Close</th>\n",
              "      <th>Volume</th>\n",
              "      <th>Signal</th>\n",
              "      <th>sell_prob</th>\n",
              "      <th>buy_prob</th>\n",
              "    </tr>\n",
              "  </thead>\n",
              "  <tbody>\n",
              "    <tr>\n",
              "      <th>0</th>\n",
              "      <td>2019-09-26 07:40:00</td>\n",
              "      <td>1513.8</td>\n",
              "      <td>1514.4</td>\n",
              "      <td>1513.4</td>\n",
              "      <td>1514.3</td>\n",
              "      <td>566.0</td>\n",
              "      <td>0</td>\n",
              "      <td>0.492794</td>\n",
              "      <td>0.507206</td>\n",
              "    </tr>\n",
              "    <tr>\n",
              "      <th>1</th>\n",
              "      <td>2019-09-26 08:40:00</td>\n",
              "      <td>1514.8</td>\n",
              "      <td>1515.1</td>\n",
              "      <td>1514.4</td>\n",
              "      <td>1514.8</td>\n",
              "      <td>612.0</td>\n",
              "      <td>-1</td>\n",
              "      <td>0.735353</td>\n",
              "      <td>0.264647</td>\n",
              "    </tr>\n",
              "    <tr>\n",
              "      <th>2</th>\n",
              "      <td>2019-09-26 09:40:00</td>\n",
              "      <td>1514.4</td>\n",
              "      <td>1514.5</td>\n",
              "      <td>1514.0</td>\n",
              "      <td>1514.1</td>\n",
              "      <td>228.0</td>\n",
              "      <td>-1</td>\n",
              "      <td>0.745692</td>\n",
              "      <td>0.254308</td>\n",
              "    </tr>\n",
              "    <tr>\n",
              "      <th>3</th>\n",
              "      <td>2019-09-26 10:40:00</td>\n",
              "      <td>1516.7</td>\n",
              "      <td>1517.3</td>\n",
              "      <td>1516.6</td>\n",
              "      <td>1516.6</td>\n",
              "      <td>1368.0</td>\n",
              "      <td>1</td>\n",
              "      <td>0.219307</td>\n",
              "      <td>0.780693</td>\n",
              "    </tr>\n",
              "    <tr>\n",
              "      <th>4</th>\n",
              "      <td>2019-09-26 11:40:00</td>\n",
              "      <td>1514.3</td>\n",
              "      <td>1514.3</td>\n",
              "      <td>1513.7</td>\n",
              "      <td>1514.2</td>\n",
              "      <td>723.0</td>\n",
              "      <td>1</td>\n",
              "      <td>0.583543</td>\n",
              "      <td>0.416457</td>\n",
              "    </tr>\n",
              "    <tr>\n",
              "      <th>...</th>\n",
              "      <td>...</td>\n",
              "      <td>...</td>\n",
              "      <td>...</td>\n",
              "      <td>...</td>\n",
              "      <td>...</td>\n",
              "      <td>...</td>\n",
              "      <td>...</td>\n",
              "      <td>...</td>\n",
              "      <td>...</td>\n",
              "    </tr>\n",
              "    <tr>\n",
              "      <th>411</th>\n",
              "      <td>2019-10-23 00:40:00</td>\n",
              "      <td>1492.7</td>\n",
              "      <td>1493.0</td>\n",
              "      <td>1492.5</td>\n",
              "      <td>1492.9</td>\n",
              "      <td>208.0</td>\n",
              "      <td>1</td>\n",
              "      <td>0.125510</td>\n",
              "      <td>0.874490</td>\n",
              "    </tr>\n",
              "    <tr>\n",
              "      <th>412</th>\n",
              "      <td>2019-10-23 01:40:00</td>\n",
              "      <td>1491.5</td>\n",
              "      <td>1491.9</td>\n",
              "      <td>1491.5</td>\n",
              "      <td>1491.7</td>\n",
              "      <td>303.0</td>\n",
              "      <td>-1</td>\n",
              "      <td>0.818192</td>\n",
              "      <td>0.181808</td>\n",
              "    </tr>\n",
              "    <tr>\n",
              "      <th>413</th>\n",
              "      <td>2019-10-23 02:40:00</td>\n",
              "      <td>1491.4</td>\n",
              "      <td>1491.6</td>\n",
              "      <td>1491.3</td>\n",
              "      <td>1491.5</td>\n",
              "      <td>260.0</td>\n",
              "      <td>-1</td>\n",
              "      <td>0.591192</td>\n",
              "      <td>0.408808</td>\n",
              "    </tr>\n",
              "    <tr>\n",
              "      <th>414</th>\n",
              "      <td>2019-10-23 03:40:00</td>\n",
              "      <td>1492.1</td>\n",
              "      <td>1492.2</td>\n",
              "      <td>1492.0</td>\n",
              "      <td>1492.2</td>\n",
              "      <td>131.0</td>\n",
              "      <td>-1</td>\n",
              "      <td>0.686396</td>\n",
              "      <td>0.313604</td>\n",
              "    </tr>\n",
              "    <tr>\n",
              "      <th>415</th>\n",
              "      <td>2019-10-23 04:40:00</td>\n",
              "      <td>1492.4</td>\n",
              "      <td>1492.7</td>\n",
              "      <td>1492.4</td>\n",
              "      <td>1492.6</td>\n",
              "      <td>83.0</td>\n",
              "      <td>-1</td>\n",
              "      <td>0.412668</td>\n",
              "      <td>0.587332</td>\n",
              "    </tr>\n",
              "  </tbody>\n",
              "</table>\n",
              "<p>416 rows × 9 columns</p>\n",
              "</div>\n",
              "      <button class=\"colab-df-convert\" onclick=\"convertToInteractive('df-11de44f9-9fbb-4fcf-a0ca-f70a50d88476')\"\n",
              "              title=\"Convert this dataframe to an interactive table.\"\n",
              "              style=\"display:none;\">\n",
              "        \n",
              "  <svg xmlns=\"http://www.w3.org/2000/svg\" height=\"24px\"viewBox=\"0 0 24 24\"\n",
              "       width=\"24px\">\n",
              "    <path d=\"M0 0h24v24H0V0z\" fill=\"none\"/>\n",
              "    <path d=\"M18.56 5.44l.94 2.06.94-2.06 2.06-.94-2.06-.94-.94-2.06-.94 2.06-2.06.94zm-11 1L8.5 8.5l.94-2.06 2.06-.94-2.06-.94L8.5 2.5l-.94 2.06-2.06.94zm10 10l.94 2.06.94-2.06 2.06-.94-2.06-.94-.94-2.06-.94 2.06-2.06.94z\"/><path d=\"M17.41 7.96l-1.37-1.37c-.4-.4-.92-.59-1.43-.59-.52 0-1.04.2-1.43.59L10.3 9.45l-7.72 7.72c-.78.78-.78 2.05 0 2.83L4 21.41c.39.39.9.59 1.41.59.51 0 1.02-.2 1.41-.59l7.78-7.78 2.81-2.81c.8-.78.8-2.07 0-2.86zM5.41 20L4 18.59l7.72-7.72 1.47 1.35L5.41 20z\"/>\n",
              "  </svg>\n",
              "      </button>\n",
              "      \n",
              "  <style>\n",
              "    .colab-df-container {\n",
              "      display:flex;\n",
              "      flex-wrap:wrap;\n",
              "      gap: 12px;\n",
              "    }\n",
              "\n",
              "    .colab-df-convert {\n",
              "      background-color: #E8F0FE;\n",
              "      border: none;\n",
              "      border-radius: 50%;\n",
              "      cursor: pointer;\n",
              "      display: none;\n",
              "      fill: #1967D2;\n",
              "      height: 32px;\n",
              "      padding: 0 0 0 0;\n",
              "      width: 32px;\n",
              "    }\n",
              "\n",
              "    .colab-df-convert:hover {\n",
              "      background-color: #E2EBFA;\n",
              "      box-shadow: 0px 1px 2px rgba(60, 64, 67, 0.3), 0px 1px 3px 1px rgba(60, 64, 67, 0.15);\n",
              "      fill: #174EA6;\n",
              "    }\n",
              "\n",
              "    [theme=dark] .colab-df-convert {\n",
              "      background-color: #3B4455;\n",
              "      fill: #D2E3FC;\n",
              "    }\n",
              "\n",
              "    [theme=dark] .colab-df-convert:hover {\n",
              "      background-color: #434B5C;\n",
              "      box-shadow: 0px 1px 3px 1px rgba(0, 0, 0, 0.15);\n",
              "      filter: drop-shadow(0px 1px 2px rgba(0, 0, 0, 0.3));\n",
              "      fill: #FFFFFF;\n",
              "    }\n",
              "  </style>\n",
              "\n",
              "      <script>\n",
              "        const buttonEl =\n",
              "          document.querySelector('#df-11de44f9-9fbb-4fcf-a0ca-f70a50d88476 button.colab-df-convert');\n",
              "        buttonEl.style.display =\n",
              "          google.colab.kernel.accessAllowed ? 'block' : 'none';\n",
              "\n",
              "        async function convertToInteractive(key) {\n",
              "          const element = document.querySelector('#df-11de44f9-9fbb-4fcf-a0ca-f70a50d88476');\n",
              "          const dataTable =\n",
              "            await google.colab.kernel.invokeFunction('convertToInteractive',\n",
              "                                                     [key], {});\n",
              "          if (!dataTable) return;\n",
              "\n",
              "          const docLinkHtml = 'Like what you see? Visit the ' +\n",
              "            '<a target=\"_blank\" href=https://colab.research.google.com/notebooks/data_table.ipynb>data table notebook</a>'\n",
              "            + ' to learn more about interactive tables.';\n",
              "          element.innerHTML = '';\n",
              "          dataTable['output_type'] = 'display_data';\n",
              "          await google.colab.output.renderOutput(dataTable, element);\n",
              "          const docLink = document.createElement('div');\n",
              "          docLink.innerHTML = docLinkHtml;\n",
              "          element.appendChild(docLink);\n",
              "        }\n",
              "      </script>\n",
              "    </div>\n",
              "  </div>\n",
              "  "
            ]
          },
          "metadata": {},
          "execution_count": 107
        }
      ]
    },
    {
      "cell_type": "code",
      "source": [
        "sell = np.where(eval_frame[\"Signal\"].values == -1)[0]\n",
        "buy = np.where(eval_frame[\"Signal\"].values == 1)[0]"
      ],
      "metadata": {
        "id": "Im3ciFIkXwZm"
      },
      "execution_count": null,
      "outputs": []
    },
    {
      "cell_type": "code",
      "source": [
        "import plotly.graph_objects as go\n",
        "from plotly.subplots import make_subplots\n",
        "\n",
        "\n",
        "#fig = go.Figure()\n",
        "fig = make_subplots(specs=[[{\"secondary_y\": True}]])\n",
        "fig.add_trace(go.Scatter(x= eval_frame.index, y=eval_frame[\"Close\"],\n",
        "                    mode='lines',\n",
        "                    name='close'), secondary_y=False)\n",
        "\n",
        "fig.add_trace(go.Bar(\n",
        "    x=buy,\n",
        "    y=[eval_frame[\"Close\"].max() for i in range(len(buy))],\n",
        "    name='buy',\n",
        "    marker_color='green', opacity=0.3\n",
        "), secondary_y=False)\n",
        "fig.add_trace(go.Bar(\n",
        "    x=sell,\n",
        "    y=[eval_frame[\"Close\"].max() for i in range(len(sell))],\n",
        "    name='sell',\n",
        "    marker_color='red',opacity=0.3\n",
        "),secondary_y=False)\n",
        "\n",
        "'''fig.add_trace(go.Scatter(x= eval_frame.index, y=sell_prob,\n",
        "                    mode='lines',\n",
        "                    name='sell_prob'), secondary_y=True)\n",
        "\n",
        "fig.add_trace(go.Scatter(x= eval_frame.index, y=buy_prob,\n",
        "                    mode='lines',\n",
        "                    name='buy_prob'), secondary_y=True)'''\n",
        "fig.update_layout(\n",
        "    title=\"Размеченное движение цены на форварде с преобразованием log > корень 3-степени\")\n",
        "fig.update_yaxes(range=[eval_frame[\"Close\"].min(), eval_frame[\"Close\"].max()], secondary_y=False)\n",
        "\n",
        "fig.show()"
      ],
      "metadata": {
        "colab": {
          "base_uri": "https://localhost:8080/",
          "height": 542
        },
        "id": "mIgM8f1iYbj6",
        "outputId": "600d86ba-6b82-442e-a593-4ccbc86bfafd"
      },
      "execution_count": null,
      "outputs": [
        {
          "output_type": "display_data",
          "data": {
            "text/html": [
              "<html>\n",
              "<head><meta charset=\"utf-8\" /></head>\n",
              "<body>\n",
              "    <div>            <script src=\"https://cdnjs.cloudflare.com/ajax/libs/mathjax/2.7.5/MathJax.js?config=TeX-AMS-MML_SVG\"></script><script type=\"text/javascript\">if (window.MathJax) {MathJax.Hub.Config({SVG: {font: \"STIX-Web\"}});}</script>                <script type=\"text/javascript\">window.PlotlyConfig = {MathJaxConfig: 'local'};</script>\n",
              "        <script src=\"https://cdn.plot.ly/plotly-2.8.3.min.js\"></script>                <div id=\"26feac2c-888b-4640-b923-9cc95b572700\" class=\"plotly-graph-div\" style=\"height:525px; width:100%;\"></div>            <script type=\"text/javascript\">                                    window.PLOTLYENV=window.PLOTLYENV || {};                                    if (document.getElementById(\"26feac2c-888b-4640-b923-9cc95b572700\")) {                    Plotly.newPlot(                        \"26feac2c-888b-4640-b923-9cc95b572700\",                        [{\"mode\":\"lines\",\"name\":\"close\",\"x\":[0,1,2,3,4,5,6,7,8,9,10,11,12,13,14,15,16,17,18,19,20,21,22,23,24,25,26,27,28,29,30,31,32,33,34,35,36,37,38,39,40,41,42,43,44,45,46,47,48,49,50,51,52,53,54,55,56,57,58,59,60,61,62,63,64,65,66,67,68,69,70,71,72,73,74,75,76,77,78,79,80,81,82,83,84,85,86,87,88,89,90,91,92,93,94,95,96,97,98,99,100,101,102,103,104,105,106,107,108,109,110,111,112,113,114,115,116,117,118,119,120,121,122,123,124,125,126,127,128,129,130,131,132,133,134,135,136,137,138,139,140,141,142,143,144,145,146,147,148,149,150,151,152,153,154,155,156,157,158,159,160,161,162,163,164,165,166,167,168,169,170,171,172,173,174,175,176,177,178,179,180,181,182,183,184,185,186,187,188,189,190,191,192,193,194,195,196,197,198,199,200,201,202,203,204,205,206,207,208,209,210,211,212,213,214,215,216,217,218,219,220,221,222,223,224,225,226,227,228,229,230,231,232,233,234,235,236,237,238,239,240,241,242,243,244,245,246,247,248,249,250,251,252,253,254,255,256,257,258,259,260,261,262,263,264,265,266,267,268,269,270,271,272,273,274,275,276,277,278,279,280,281,282,283,284,285,286,287,288,289,290,291,292,293,294,295,296,297,298,299,300,301,302,303,304,305,306,307,308,309,310,311,312,313,314,315,316,317,318,319,320,321,322,323,324,325,326,327,328,329,330,331,332,333,334,335,336,337,338,339,340,341,342,343,344,345,346,347,348,349,350,351,352,353,354,355,356,357,358,359,360,361,362,363,364,365,366,367,368,369,370,371,372,373,374,375,376,377,378,379,380,381,382,383,384,385,386,387,388,389,390,391,392,393,394,395,396,397,398,399,400,401,402,403,404,405,406,407,408,409,410,411,412,413,414,415],\"y\":[1514.3,1514.8,1514.1,1516.6,1514.2,1512.9,1518.9,1514.9,1516.7,1513.5,1514.6,1516.1,1510.6,1511.5,1512.3,1514.1,1512.9,1512.0,1513.4,1513.3,1512.6,1505.8,1505.7,1505.1,1503.7,1498.0,1500.8,1503.5,1495.7,1497.3,1503.2,1504.9,1507.1,1505.6,1503.4,1506.1,1504.0,1502.8,1501.3,1499.5,1498.8,1499.9,1500.3,1495.7,1498.2,1493.8,1494.2,1493.7,1492.8,1491.9,1490.5,1489.6,1476.1,1476.5,1471.4,1478.6,1480.2,1478.9,1479.5,1478.4,1476.4,1472.9,1473.3,1471.6,1470.2,1469.3,1465.8,1466.7,1473.1,1474.8,1474.3,1470.3,1470.2,1487.0,1489.7,1489.5,1488.9,1485.8,1486.5,1485.9,1486.3,1487.5,1484.8,1483.3,1483.7,1482.1,1483.9,1482.1,1488.2,1487.3,1490.1,1488.9,1491.3,1494.9,1503.1,1502.8,1507.4,1507.0,1510.6,1506.4,1504.7,1505.7,1505.6,1507.8,1506.8,1506.4,1504.0,1505.3,1504.9,1507.9,1503.7,1505.9,1507.6,1507.7,1511.0,1506.6,1507.1,1514.9,1516.8,1512.9,1512.7,1514.4,1512.6,1512.3,1512.9,1514.1,1514.6,1514.5,1515.1,1514.1,1513.8,1513.6,1514.8,1514.4,1515.3,1515.7,1515.3,1511.0,1507.2,1511.7,1510.8,1512.0,1513.5,1511.7,1510.5,1513.4,1513.7,1513.5,1514.2,1512.6,1512.2,1511.5,1511.1,1511.6,1507.9,1506.9,1508.2,1506.6,1503.9,1504.4,1505.1,1509.0,1504.8,1503.9,1495.5,1496.7,1497.3,1499.2,1497.9,1495.0,1498.7,1496.6,1496.5,1496.5,1496.8,1495.5,1498.7,1503.6,1505.3,1508.3,1510.1,1510.3,1513.7,1510.7,1508.7,1507.0,1504.9,1507.9,1511.3,1512.4,1513.5,1511.6,1512.4,1510.7,1511.3,1511.8,1511.3,1513.0,1513.4,1512.8,1508.1,1508.0,1506.8,1512.2,1512.7,1512.5,1512.4,1511.5,1512.5,1513.4,1513.0,1519.5,1518.9,1517.2,1511.3,1514.1,1514.4,1513.5,1511.7,1510.0,1515.3,1512.7,1513.4,1511.4,1512.8,1507.5,1502.2,1499.3,1499.4,1501.5,1502.5,1500.2,1498.8,1497.2,1498.8,1499.5,1501.3,1500.3,1499.9,1499.6,1499.4,1504.7,1506.6,1503.3,1502.8,1498.3,1489.5,1489.2,1490.0,1480.2,1483.7,1488.6,1488.0,1488.5,1483.8,1488.1,1488.0,1490.0,1491.8,1491.1,1491.1,1491.3,1490.6,1491.7,1492.8,1493.6,1497.8,1499.6,1500.1,1496.4,1497.7,1495.3,1496.3,1495.9,1497.6,1497.1,1495.8,1496.3,1495.9,1496.6,1497.0,1498.6,1498.9,1498.3,1496.7,1493.2,1495.9,1496.5,1498.9,1501.4,1498.3,1496.9,1491.3,1483.5,1486.1,1484.4,1483.6,1485.1,1484.7,1484.6,1484.3,1488.1,1486.7,1486.3,1486.6,1487.4,1487.1,1484.0,1487.8,1487.8,1486.0,1486.4,1484.2,1490.4,1489.1,1486.7,1490.8,1493.7,1493.3,1492.1,1494.4,1493.8,1494.4,1493.7,1491.9,1492.2,1492.1,1491.9,1492.0,1495.1,1494.6,1491.3,1489.3,1490.1,1492.5,1494.3,1496.6,1495.5,1497.5,1499.3,1498.9,1497.6,1495.8,1496.5,1496.9,1495.4,1495.6,1495.7,1496.2,1495.3,1495.4,1493.6,1492.2,1491.8,1491.5,1492.2,1492.0,1494.1,1495.7,1495.0,1495.8,1495.1,1494.6,1494.6,1494.5,1494.8,1494.7,1494.4,1493.8,1493.6,1493.5,1493.1,1495.0,1495.0,1494.0,1491.9,1494.4,1494.8,1494.6,1494.9,1494.5,1493.8,1488.2,1489.2,1487.7,1486.5,1486.4,1487.0,1486.9,1485.7,1486.8,1487.0,1486.9,1487.3,1488.7,1488.3,1491.6,1491.9,1491.3,1490.7,1489.4,1488.1,1491.6,1488.7,1487.2,1486.5,1488.0,1489.4,1490.2,1491.2,1492.1,1492.9,1491.7,1491.5,1492.2,1492.6],\"type\":\"scatter\",\"xaxis\":\"x\",\"yaxis\":\"y\"},{\"marker\":{\"color\":\"green\"},\"name\":\"buy\",\"opacity\":0.3,\"x\":[0,3,6,7,8,11,18,19,22,31,33,34,35,36,53,69,70,74,75,76,77,78,79,80,81,84,88,89,90,91,92,93,94,95,96,97,98,99,100,101,102,103,104,110,112,113,114,118,120,122,124,125,126,128,132,133,134,135,136,138,139,141,142,143,144,147,148,149,160,161,163,168,171,172,174,176,177,178,179,180,181,182,183,184,185,186,187,188,189,191,193,195,196,197,198,199,204,205,206,207,209,210,211,212,213,220,237,239,240,241,242,243,244,249,257,258,259,261,263,265,266,267,268,269,270,271,275,277,279,280,282,283,287,288,289,290,291,302,304,305,306,308,309,310,311,313,315,316,317,318,319,320,321,322,323,324,326,330,334,335,336,337,338,339,340,342,343,344,345,346,347,348,356,357,358,359,360,361,362,363,364,365,366,367,372,373,377,378,379,380,382,390,392,393,394,395,396,397,398,399,400,402,403,408,409,410,411,415],\"y\":[1519.5,1519.5,1519.5,1519.5,1519.5,1519.5,1519.5,1519.5,1519.5,1519.5,1519.5,1519.5,1519.5,1519.5,1519.5,1519.5,1519.5,1519.5,1519.5,1519.5,1519.5,1519.5,1519.5,1519.5,1519.5,1519.5,1519.5,1519.5,1519.5,1519.5,1519.5,1519.5,1519.5,1519.5,1519.5,1519.5,1519.5,1519.5,1519.5,1519.5,1519.5,1519.5,1519.5,1519.5,1519.5,1519.5,1519.5,1519.5,1519.5,1519.5,1519.5,1519.5,1519.5,1519.5,1519.5,1519.5,1519.5,1519.5,1519.5,1519.5,1519.5,1519.5,1519.5,1519.5,1519.5,1519.5,1519.5,1519.5,1519.5,1519.5,1519.5,1519.5,1519.5,1519.5,1519.5,1519.5,1519.5,1519.5,1519.5,1519.5,1519.5,1519.5,1519.5,1519.5,1519.5,1519.5,1519.5,1519.5,1519.5,1519.5,1519.5,1519.5,1519.5,1519.5,1519.5,1519.5,1519.5,1519.5,1519.5,1519.5,1519.5,1519.5,1519.5,1519.5,1519.5,1519.5,1519.5,1519.5,1519.5,1519.5,1519.5,1519.5,1519.5,1519.5,1519.5,1519.5,1519.5,1519.5,1519.5,1519.5,1519.5,1519.5,1519.5,1519.5,1519.5,1519.5,1519.5,1519.5,1519.5,1519.5,1519.5,1519.5,1519.5,1519.5,1519.5,1519.5,1519.5,1519.5,1519.5,1519.5,1519.5,1519.5,1519.5,1519.5,1519.5,1519.5,1519.5,1519.5,1519.5,1519.5,1519.5,1519.5,1519.5,1519.5,1519.5,1519.5,1519.5,1519.5,1519.5,1519.5,1519.5,1519.5,1519.5,1519.5,1519.5,1519.5,1519.5,1519.5,1519.5,1519.5,1519.5,1519.5,1519.5,1519.5,1519.5,1519.5,1519.5,1519.5,1519.5,1519.5,1519.5,1519.5,1519.5,1519.5,1519.5,1519.5,1519.5,1519.5,1519.5,1519.5,1519.5,1519.5,1519.5,1519.5,1519.5,1519.5,1519.5,1519.5,1519.5,1519.5,1519.5,1519.5,1519.5,1519.5,1519.5,1519.5,1519.5,1519.5],\"type\":\"bar\",\"xaxis\":\"x\",\"yaxis\":\"y\"},{\"marker\":{\"color\":\"red\"},\"name\":\"sell\",\"opacity\":0.3,\"x\":[1,2,4,5,9,10,12,13,14,15,16,17,20,21,23,24,25,26,27,28,29,30,32,37,38,39,40,41,42,43,44,45,46,47,48,49,50,51,52,54,55,56,57,58,59,60,61,62,63,64,65,66,67,68,71,72,73,82,83,85,86,87,105,106,107,108,109,111,115,116,117,119,121,123,127,129,130,131,137,140,145,146,150,151,152,153,154,155,156,157,158,159,162,164,165,166,167,169,170,173,175,190,192,194,200,201,202,203,208,214,215,216,217,218,219,221,222,223,224,225,226,227,228,229,230,231,232,233,234,235,236,238,245,246,247,248,250,251,252,253,254,255,256,260,262,264,272,273,274,276,278,281,284,285,286,292,293,294,295,296,297,298,299,300,301,303,307,312,314,325,327,328,329,331,332,333,341,349,350,351,352,353,354,355,368,369,370,371,374,375,376,381,383,384,385,386,387,388,389,391,401,404,405,406,407,412,413,414],\"y\":[1519.5,1519.5,1519.5,1519.5,1519.5,1519.5,1519.5,1519.5,1519.5,1519.5,1519.5,1519.5,1519.5,1519.5,1519.5,1519.5,1519.5,1519.5,1519.5,1519.5,1519.5,1519.5,1519.5,1519.5,1519.5,1519.5,1519.5,1519.5,1519.5,1519.5,1519.5,1519.5,1519.5,1519.5,1519.5,1519.5,1519.5,1519.5,1519.5,1519.5,1519.5,1519.5,1519.5,1519.5,1519.5,1519.5,1519.5,1519.5,1519.5,1519.5,1519.5,1519.5,1519.5,1519.5,1519.5,1519.5,1519.5,1519.5,1519.5,1519.5,1519.5,1519.5,1519.5,1519.5,1519.5,1519.5,1519.5,1519.5,1519.5,1519.5,1519.5,1519.5,1519.5,1519.5,1519.5,1519.5,1519.5,1519.5,1519.5,1519.5,1519.5,1519.5,1519.5,1519.5,1519.5,1519.5,1519.5,1519.5,1519.5,1519.5,1519.5,1519.5,1519.5,1519.5,1519.5,1519.5,1519.5,1519.5,1519.5,1519.5,1519.5,1519.5,1519.5,1519.5,1519.5,1519.5,1519.5,1519.5,1519.5,1519.5,1519.5,1519.5,1519.5,1519.5,1519.5,1519.5,1519.5,1519.5,1519.5,1519.5,1519.5,1519.5,1519.5,1519.5,1519.5,1519.5,1519.5,1519.5,1519.5,1519.5,1519.5,1519.5,1519.5,1519.5,1519.5,1519.5,1519.5,1519.5,1519.5,1519.5,1519.5,1519.5,1519.5,1519.5,1519.5,1519.5,1519.5,1519.5,1519.5,1519.5,1519.5,1519.5,1519.5,1519.5,1519.5,1519.5,1519.5,1519.5,1519.5,1519.5,1519.5,1519.5,1519.5,1519.5,1519.5,1519.5,1519.5,1519.5,1519.5,1519.5,1519.5,1519.5,1519.5,1519.5,1519.5,1519.5,1519.5,1519.5,1519.5,1519.5,1519.5,1519.5,1519.5,1519.5,1519.5,1519.5,1519.5,1519.5,1519.5,1519.5,1519.5,1519.5,1519.5,1519.5,1519.5,1519.5,1519.5,1519.5,1519.5,1519.5,1519.5,1519.5,1519.5,1519.5,1519.5,1519.5,1519.5,1519.5],\"type\":\"bar\",\"xaxis\":\"x\",\"yaxis\":\"y\"}],                        {\"template\":{\"data\":{\"bar\":[{\"error_x\":{\"color\":\"#2a3f5f\"},\"error_y\":{\"color\":\"#2a3f5f\"},\"marker\":{\"line\":{\"color\":\"#E5ECF6\",\"width\":0.5},\"pattern\":{\"fillmode\":\"overlay\",\"size\":10,\"solidity\":0.2}},\"type\":\"bar\"}],\"barpolar\":[{\"marker\":{\"line\":{\"color\":\"#E5ECF6\",\"width\":0.5},\"pattern\":{\"fillmode\":\"overlay\",\"size\":10,\"solidity\":0.2}},\"type\":\"barpolar\"}],\"carpet\":[{\"aaxis\":{\"endlinecolor\":\"#2a3f5f\",\"gridcolor\":\"white\",\"linecolor\":\"white\",\"minorgridcolor\":\"white\",\"startlinecolor\":\"#2a3f5f\"},\"baxis\":{\"endlinecolor\":\"#2a3f5f\",\"gridcolor\":\"white\",\"linecolor\":\"white\",\"minorgridcolor\":\"white\",\"startlinecolor\":\"#2a3f5f\"},\"type\":\"carpet\"}],\"choropleth\":[{\"colorbar\":{\"outlinewidth\":0,\"ticks\":\"\"},\"type\":\"choropleth\"}],\"contour\":[{\"colorbar\":{\"outlinewidth\":0,\"ticks\":\"\"},\"colorscale\":[[0.0,\"#0d0887\"],[0.1111111111111111,\"#46039f\"],[0.2222222222222222,\"#7201a8\"],[0.3333333333333333,\"#9c179e\"],[0.4444444444444444,\"#bd3786\"],[0.5555555555555556,\"#d8576b\"],[0.6666666666666666,\"#ed7953\"],[0.7777777777777778,\"#fb9f3a\"],[0.8888888888888888,\"#fdca26\"],[1.0,\"#f0f921\"]],\"type\":\"contour\"}],\"contourcarpet\":[{\"colorbar\":{\"outlinewidth\":0,\"ticks\":\"\"},\"type\":\"contourcarpet\"}],\"heatmap\":[{\"colorbar\":{\"outlinewidth\":0,\"ticks\":\"\"},\"colorscale\":[[0.0,\"#0d0887\"],[0.1111111111111111,\"#46039f\"],[0.2222222222222222,\"#7201a8\"],[0.3333333333333333,\"#9c179e\"],[0.4444444444444444,\"#bd3786\"],[0.5555555555555556,\"#d8576b\"],[0.6666666666666666,\"#ed7953\"],[0.7777777777777778,\"#fb9f3a\"],[0.8888888888888888,\"#fdca26\"],[1.0,\"#f0f921\"]],\"type\":\"heatmap\"}],\"heatmapgl\":[{\"colorbar\":{\"outlinewidth\":0,\"ticks\":\"\"},\"colorscale\":[[0.0,\"#0d0887\"],[0.1111111111111111,\"#46039f\"],[0.2222222222222222,\"#7201a8\"],[0.3333333333333333,\"#9c179e\"],[0.4444444444444444,\"#bd3786\"],[0.5555555555555556,\"#d8576b\"],[0.6666666666666666,\"#ed7953\"],[0.7777777777777778,\"#fb9f3a\"],[0.8888888888888888,\"#fdca26\"],[1.0,\"#f0f921\"]],\"type\":\"heatmapgl\"}],\"histogram\":[{\"marker\":{\"pattern\":{\"fillmode\":\"overlay\",\"size\":10,\"solidity\":0.2}},\"type\":\"histogram\"}],\"histogram2d\":[{\"colorbar\":{\"outlinewidth\":0,\"ticks\":\"\"},\"colorscale\":[[0.0,\"#0d0887\"],[0.1111111111111111,\"#46039f\"],[0.2222222222222222,\"#7201a8\"],[0.3333333333333333,\"#9c179e\"],[0.4444444444444444,\"#bd3786\"],[0.5555555555555556,\"#d8576b\"],[0.6666666666666666,\"#ed7953\"],[0.7777777777777778,\"#fb9f3a\"],[0.8888888888888888,\"#fdca26\"],[1.0,\"#f0f921\"]],\"type\":\"histogram2d\"}],\"histogram2dcontour\":[{\"colorbar\":{\"outlinewidth\":0,\"ticks\":\"\"},\"colorscale\":[[0.0,\"#0d0887\"],[0.1111111111111111,\"#46039f\"],[0.2222222222222222,\"#7201a8\"],[0.3333333333333333,\"#9c179e\"],[0.4444444444444444,\"#bd3786\"],[0.5555555555555556,\"#d8576b\"],[0.6666666666666666,\"#ed7953\"],[0.7777777777777778,\"#fb9f3a\"],[0.8888888888888888,\"#fdca26\"],[1.0,\"#f0f921\"]],\"type\":\"histogram2dcontour\"}],\"mesh3d\":[{\"colorbar\":{\"outlinewidth\":0,\"ticks\":\"\"},\"type\":\"mesh3d\"}],\"parcoords\":[{\"line\":{\"colorbar\":{\"outlinewidth\":0,\"ticks\":\"\"}},\"type\":\"parcoords\"}],\"pie\":[{\"automargin\":true,\"type\":\"pie\"}],\"scatter\":[{\"marker\":{\"colorbar\":{\"outlinewidth\":0,\"ticks\":\"\"}},\"type\":\"scatter\"}],\"scatter3d\":[{\"line\":{\"colorbar\":{\"outlinewidth\":0,\"ticks\":\"\"}},\"marker\":{\"colorbar\":{\"outlinewidth\":0,\"ticks\":\"\"}},\"type\":\"scatter3d\"}],\"scattercarpet\":[{\"marker\":{\"colorbar\":{\"outlinewidth\":0,\"ticks\":\"\"}},\"type\":\"scattercarpet\"}],\"scattergeo\":[{\"marker\":{\"colorbar\":{\"outlinewidth\":0,\"ticks\":\"\"}},\"type\":\"scattergeo\"}],\"scattergl\":[{\"marker\":{\"colorbar\":{\"outlinewidth\":0,\"ticks\":\"\"}},\"type\":\"scattergl\"}],\"scattermapbox\":[{\"marker\":{\"colorbar\":{\"outlinewidth\":0,\"ticks\":\"\"}},\"type\":\"scattermapbox\"}],\"scatterpolar\":[{\"marker\":{\"colorbar\":{\"outlinewidth\":0,\"ticks\":\"\"}},\"type\":\"scatterpolar\"}],\"scatterpolargl\":[{\"marker\":{\"colorbar\":{\"outlinewidth\":0,\"ticks\":\"\"}},\"type\":\"scatterpolargl\"}],\"scatterternary\":[{\"marker\":{\"colorbar\":{\"outlinewidth\":0,\"ticks\":\"\"}},\"type\":\"scatterternary\"}],\"surface\":[{\"colorbar\":{\"outlinewidth\":0,\"ticks\":\"\"},\"colorscale\":[[0.0,\"#0d0887\"],[0.1111111111111111,\"#46039f\"],[0.2222222222222222,\"#7201a8\"],[0.3333333333333333,\"#9c179e\"],[0.4444444444444444,\"#bd3786\"],[0.5555555555555556,\"#d8576b\"],[0.6666666666666666,\"#ed7953\"],[0.7777777777777778,\"#fb9f3a\"],[0.8888888888888888,\"#fdca26\"],[1.0,\"#f0f921\"]],\"type\":\"surface\"}],\"table\":[{\"cells\":{\"fill\":{\"color\":\"#EBF0F8\"},\"line\":{\"color\":\"white\"}},\"header\":{\"fill\":{\"color\":\"#C8D4E3\"},\"line\":{\"color\":\"white\"}},\"type\":\"table\"}]},\"layout\":{\"annotationdefaults\":{\"arrowcolor\":\"#2a3f5f\",\"arrowhead\":0,\"arrowwidth\":1},\"autotypenumbers\":\"strict\",\"coloraxis\":{\"colorbar\":{\"outlinewidth\":0,\"ticks\":\"\"}},\"colorscale\":{\"diverging\":[[0,\"#8e0152\"],[0.1,\"#c51b7d\"],[0.2,\"#de77ae\"],[0.3,\"#f1b6da\"],[0.4,\"#fde0ef\"],[0.5,\"#f7f7f7\"],[0.6,\"#e6f5d0\"],[0.7,\"#b8e186\"],[0.8,\"#7fbc41\"],[0.9,\"#4d9221\"],[1,\"#276419\"]],\"sequential\":[[0.0,\"#0d0887\"],[0.1111111111111111,\"#46039f\"],[0.2222222222222222,\"#7201a8\"],[0.3333333333333333,\"#9c179e\"],[0.4444444444444444,\"#bd3786\"],[0.5555555555555556,\"#d8576b\"],[0.6666666666666666,\"#ed7953\"],[0.7777777777777778,\"#fb9f3a\"],[0.8888888888888888,\"#fdca26\"],[1.0,\"#f0f921\"]],\"sequentialminus\":[[0.0,\"#0d0887\"],[0.1111111111111111,\"#46039f\"],[0.2222222222222222,\"#7201a8\"],[0.3333333333333333,\"#9c179e\"],[0.4444444444444444,\"#bd3786\"],[0.5555555555555556,\"#d8576b\"],[0.6666666666666666,\"#ed7953\"],[0.7777777777777778,\"#fb9f3a\"],[0.8888888888888888,\"#fdca26\"],[1.0,\"#f0f921\"]]},\"colorway\":[\"#636efa\",\"#EF553B\",\"#00cc96\",\"#ab63fa\",\"#FFA15A\",\"#19d3f3\",\"#FF6692\",\"#B6E880\",\"#FF97FF\",\"#FECB52\"],\"font\":{\"color\":\"#2a3f5f\"},\"geo\":{\"bgcolor\":\"white\",\"lakecolor\":\"white\",\"landcolor\":\"#E5ECF6\",\"showlakes\":true,\"showland\":true,\"subunitcolor\":\"white\"},\"hoverlabel\":{\"align\":\"left\"},\"hovermode\":\"closest\",\"mapbox\":{\"style\":\"light\"},\"paper_bgcolor\":\"white\",\"plot_bgcolor\":\"#E5ECF6\",\"polar\":{\"angularaxis\":{\"gridcolor\":\"white\",\"linecolor\":\"white\",\"ticks\":\"\"},\"bgcolor\":\"#E5ECF6\",\"radialaxis\":{\"gridcolor\":\"white\",\"linecolor\":\"white\",\"ticks\":\"\"}},\"scene\":{\"xaxis\":{\"backgroundcolor\":\"#E5ECF6\",\"gridcolor\":\"white\",\"gridwidth\":2,\"linecolor\":\"white\",\"showbackground\":true,\"ticks\":\"\",\"zerolinecolor\":\"white\"},\"yaxis\":{\"backgroundcolor\":\"#E5ECF6\",\"gridcolor\":\"white\",\"gridwidth\":2,\"linecolor\":\"white\",\"showbackground\":true,\"ticks\":\"\",\"zerolinecolor\":\"white\"},\"zaxis\":{\"backgroundcolor\":\"#E5ECF6\",\"gridcolor\":\"white\",\"gridwidth\":2,\"linecolor\":\"white\",\"showbackground\":true,\"ticks\":\"\",\"zerolinecolor\":\"white\"}},\"shapedefaults\":{\"line\":{\"color\":\"#2a3f5f\"}},\"ternary\":{\"aaxis\":{\"gridcolor\":\"white\",\"linecolor\":\"white\",\"ticks\":\"\"},\"baxis\":{\"gridcolor\":\"white\",\"linecolor\":\"white\",\"ticks\":\"\"},\"bgcolor\":\"#E5ECF6\",\"caxis\":{\"gridcolor\":\"white\",\"linecolor\":\"white\",\"ticks\":\"\"}},\"title\":{\"x\":0.05},\"xaxis\":{\"automargin\":true,\"gridcolor\":\"white\",\"linecolor\":\"white\",\"ticks\":\"\",\"title\":{\"standoff\":15},\"zerolinecolor\":\"white\",\"zerolinewidth\":2},\"yaxis\":{\"automargin\":true,\"gridcolor\":\"white\",\"linecolor\":\"white\",\"ticks\":\"\",\"title\":{\"standoff\":15},\"zerolinecolor\":\"white\",\"zerolinewidth\":2}}},\"xaxis\":{\"anchor\":\"y\",\"domain\":[0.0,0.94]},\"yaxis\":{\"anchor\":\"x\",\"domain\":[0.0,1.0],\"range\":[1465.8,1519.5]},\"yaxis2\":{\"anchor\":\"x\",\"overlaying\":\"y\",\"side\":\"right\"},\"title\":{\"text\":\"\\u0420\\u0430\\u0437\\u043c\\u0435\\u0447\\u0435\\u043d\\u043d\\u043e\\u0435 \\u0434\\u0432\\u0438\\u0436\\u0435\\u043d\\u0438\\u0435 \\u0446\\u0435\\u043d\\u044b \\u043d\\u0430 \\u0444\\u043e\\u0440\\u0432\\u0430\\u0440\\u0434\\u0435 \\u0441 \\u043f\\u0440\\u0435\\u043e\\u0431\\u0440\\u0430\\u0437\\u043e\\u0432\\u0430\\u043d\\u0438\\u0435\\u043c log > \\u043a\\u043e\\u0440\\u0435\\u043d\\u044c 3-\\u0441\\u0442\\u0435\\u043f\\u0435\\u043d\\u0438\"}},                        {\"responsive\": true}                    ).then(function(){\n",
              "                            \n",
              "var gd = document.getElementById('26feac2c-888b-4640-b923-9cc95b572700');\n",
              "var x = new MutationObserver(function (mutations, observer) {{\n",
              "        var display = window.getComputedStyle(gd).display;\n",
              "        if (!display || display === 'none') {{\n",
              "            console.log([gd, 'removed!']);\n",
              "            Plotly.purge(gd);\n",
              "            observer.disconnect();\n",
              "        }}\n",
              "}});\n",
              "\n",
              "// Listen for the removal of the full notebook cells\n",
              "var notebookContainer = gd.closest('#notebook-container');\n",
              "if (notebookContainer) {{\n",
              "    x.observe(notebookContainer, {childList: true});\n",
              "}}\n",
              "\n",
              "// Listen for the clearing of the current output cell\n",
              "var outputEl = gd.closest('.output');\n",
              "if (outputEl) {{\n",
              "    x.observe(outputEl, {childList: true});\n",
              "}}\n",
              "\n",
              "                        })                };                            </script>        </div>\n",
              "</body>\n",
              "</html>"
            ]
          },
          "metadata": {}
        }
      ]
    },
    {
      "cell_type": "code",
      "source": [
        "eval_frame.to_csv(\"Apate_test_check_60.csv\")"
      ],
      "metadata": {
        "id": "c3iQjM-GcGeH"
      },
      "execution_count": null,
      "outputs": []
    },
    {
      "cell_type": "code",
      "source": [
        "ex_Sig = 0\n",
        "Signal = []\n",
        "sell_prob = []\n",
        "buy_prob = []\n",
        "for test_array in test_patterns:\n",
        "  pred = int(b_clf.predict(test_array.reshape(1, -1)))\n",
        " \n",
        "  prob = b_clf.predict_proba(test_array.reshape(1, -1))[0]\n",
        "  sell_prob.append(prob[0])\n",
        "  buy_prob.append(prob[1])\n",
        "  \n",
        "  if prob[pred] >= 0.6:\n",
        "    if pred ==0:\n",
        "      ex_Sig = -1\n",
        "    else:\n",
        "      ex_Sig = 1\n",
        "    #Signal.append(-1)\n",
        "  Signal.append(ex_Sig)"
      ],
      "metadata": {
        "id": "Pfvnjfv_4Cv7"
      },
      "execution_count": null,
      "outputs": []
    },
    {
      "cell_type": "code",
      "source": [
        "eval_frame[\"Signal\"] = Signal\n",
        "sell = np.where(eval_frame[\"Signal\"].values == -1)[0]\n",
        "buy = np.where(eval_frame[\"Signal\"].values == 1)[0]"
      ],
      "metadata": {
        "id": "yn9JtFtK6Q7m"
      },
      "execution_count": null,
      "outputs": []
    },
    {
      "cell_type": "code",
      "source": [
        "import plotly.graph_objects as go\n",
        "from plotly.subplots import make_subplots\n",
        "\n",
        "\n",
        "#fig = go.Figure()\n",
        "fig = make_subplots(specs=[[{\"secondary_y\": True}]])\n",
        "fig.add_trace(go.Scatter(x= eval_frame.index, y=eval_frame[\"Close\"],\n",
        "                    mode='lines',\n",
        "                    name='close',error_y=dict(\n",
        "            type='data',\n",
        "            symmetric=False,\n",
        "            array=sell_prob,\n",
        "            arrayminus=buy_prob)), secondary_y=False, )\n",
        "\n",
        "fig.add_trace(go.Bar(\n",
        "    x=buy,\n",
        "    y=[eval_frame[\"Close\"].max() for i in range(len(buy))],\n",
        "    name='buy',\n",
        "    marker_color='green', opacity=0.3\n",
        "), secondary_y=False)\n",
        "fig.add_trace(go.Bar(\n",
        "    x=sell,\n",
        "    y=[eval_frame[\"Close\"].max() for i in range(len(sell))],\n",
        "    name='sell',\n",
        "    marker_color='red',opacity=0.3\n",
        "),secondary_y=False)\n",
        "\n",
        "'''fig.add_trace(go.Scatter(x= eval_frame.index, y=sell_prob,\n",
        "                    mode='lines',\n",
        "                    name='sell_prob'), secondary_y=True)\n",
        "\n",
        "fig.add_trace(go.Scatter(x= eval_frame.index, y=buy_prob,\n",
        "                    mode='lines',\n",
        "                    name='buy_prob'), secondary_y=True)'''\n",
        "fig.update_layout(\n",
        "    title=\"Размеченное движение цены на форварде с преобразованием log > корень 3-степени\")\n",
        "fig.update_yaxes(range=[eval_frame[\"Close\"].min(), eval_frame[\"Close\"].max()], secondary_y=False)\n",
        "\n",
        "fig.show()"
      ],
      "metadata": {
        "colab": {
          "base_uri": "https://localhost:8080/",
          "height": 542
        },
        "id": "Vx3QQ5W36XL3",
        "outputId": "09413bd8-c042-4734-ed3b-e33b232d60ca"
      },
      "execution_count": null,
      "outputs": [
        {
          "output_type": "display_data",
          "data": {
            "text/html": [
              "<html>\n",
              "<head><meta charset=\"utf-8\" /></head>\n",
              "<body>\n",
              "    <div>            <script src=\"https://cdnjs.cloudflare.com/ajax/libs/mathjax/2.7.5/MathJax.js?config=TeX-AMS-MML_SVG\"></script><script type=\"text/javascript\">if (window.MathJax) {MathJax.Hub.Config({SVG: {font: \"STIX-Web\"}});}</script>                <script type=\"text/javascript\">window.PlotlyConfig = {MathJaxConfig: 'local'};</script>\n",
              "        <script src=\"https://cdn.plot.ly/plotly-2.8.3.min.js\"></script>                <div id=\"57a2bc7a-7bd2-4827-9b01-a49476bf5eb1\" class=\"plotly-graph-div\" style=\"height:525px; width:100%;\"></div>            <script type=\"text/javascript\">                                    window.PLOTLYENV=window.PLOTLYENV || {};                                    if (document.getElementById(\"57a2bc7a-7bd2-4827-9b01-a49476bf5eb1\")) {                    Plotly.newPlot(                        \"57a2bc7a-7bd2-4827-9b01-a49476bf5eb1\",                        [{\"error_y\":{\"array\":[0.49279422588412136,0.7353527381022269,0.7456919443741571,0.21930747810133255,0.5835429347056998,0.6510587658422538,0.29962304059927736,0.24815270590947267,0.4294144340106203,0.549694613151052,0.5759964054707618,0.347340569451433,0.660911903385346,0.7718712421964246,0.7343547558961172,0.7080565769154106,0.5125145861923593,0.6666372877951489,0.39057782890940396,0.4316253117141694,0.7091514578354235,0.625346683195301,0.4870327293385142,0.5673540174696634,0.6107159512883641,0.623726041018058,0.5728149539069503,0.5476632997207029,0.7120131700960713,0.6757639139168877,0.8186053009074663,0.4064361530728237,0.5057782474312449,0.30710685317294845,0.44671605583788854,0.3192222779928982,0.20475584540897301,0.8357143938828887,0.5309082078478736,0.5705372328994961,0.5503693880628997,0.6397317460600062,0.7448888069358198,0.6598560490284765,0.608301306756577,0.7166169112318839,0.5948221907094814,0.6295664301430131,0.60375245950309,0.7974069348466352,0.5914206458911754,0.7625260680432586,0.6134293734967807,0.45942168715300485,0.7186339982269158,0.6828919738046232,0.6184970359237801,0.7191155088628965,0.6161278631529685,0.6290902202118739,0.6258488716089649,0.6488746342556402,0.6647068195986203,0.6088630618058056,0.7749666782262515,0.5897585992082063,0.7240434190670816,0.692124340340061,0.5478894964036362,0.37348366703349045,0.3465629670921586,0.6355433663807459,0.5684199820716288,0.5043659625654845,0.38141144996434495,0.22155408839354723,0.3500420793447904,0.43702412102799654,0.20104130212929056,0.3766676211974671,0.1525449655382686,0.20737818111213185,0.5135742468325101,0.6821145397109707,0.498363477121339,0.7165639373065998,0.6045287872207904,0.5530673634750914,0.3633957283697768,0.3342000295792419,0.39849079207015037,0.3599204041088626,0.2512417927844942,0.19964110441299635,0.38479794769074827,0.4452033971098756,0.20888331945047303,0.25165017294214415,0.3552961265238329,0.36825511700618097,0.20172145060958915,0.2906237758597617,0.2847700180864991,0.21296566703958172,0.40968506252945297,0.677875646494042,0.6357318767483142,0.5174068711017511,0.5579419394198116,0.5444512982186287,0.4123864886484108,0.7274671666716802,0.2451222342212337,0.4924418647113107,0.24257673326314813,0.5139665860919514,0.5254976331939818,0.6495538283444374,0.35430188344946345,0.5384698040366012,0.473096732105129,0.5091430324645774,0.43254185133472534,0.5703137068591158,0.3782434228286276,0.3697608478529948,0.4751712196885205,0.5250696862848877,0.4508623387637462,0.5013306397152665,0.6760125261064681,0.5169335935069408,0.2325503380650299,0.3557703441473797,0.36476966419366635,0.2531603715686439,0.2637286586624734,0.6267332784475684,0.4564544181334535,0.422828167742978,0.5307307757755817,0.49992491821290624,0.3336326262672593,0.4010168841427766,0.4767608130052476,0.5340576518571164,0.582200899839458,0.27232972754387197,0.3822850670236561,0.48228391660351233,0.6878941229520524,0.7073876541912983,0.750666396714714,0.6149545435802724,0.6375425145656238,0.7181859003128891,0.6848597816890372,0.7994655343255239,0.7607115545394801,0.6379198744160853,0.4991250928758441,0.46475691932616636,0.5761485351668597,0.4722639441785896,0.7048595923973768,0.6812108772412735,0.7236462363304257,0.7758711355282383,0.383684221552637,0.8197209519890385,0.5644376753710635,0.32992617157596793,0.4452796596308045,0.5359235755667878,0.46571056549526024,0.560990413572449,0.3958793253229675,0.492324596904288,0.37496326043234723,0.3874927002933388,0.33815873073833624,0.26212982877349783,0.2727325246029813,0.28508915546870434,0.15576290015010286,0.419004549643406,0.4257598796667837,0.2513520711384989,0.2742482628328962,0.31695595473452276,0.5141720051874684,0.11224216697947963,0.6784856786194711,0.3564491494920667,0.6400830071917708,0.3194519232441422,0.36882439524212945,0.20895328521833983,0.4279842848920991,0.49799810862173044,0.8145811412045512,0.6159236964496984,0.5932932907624241,0.6307701006317102,0.4756503552257561,0.4924913306602302,0.3579169728529372,0.49501681572973133,0.5276537469899119,0.3786717738832311,0.43169444922098205,0.3150158146994274,0.4427236012499952,0.15733636553055833,0.6608586816825349,0.7719531069717385,0.5703987462551783,0.7692209805347855,0.817048049260747,0.6740971324434123,0.4024991986490021,0.6313448381952519,0.5072201893631688,0.7645941657500113,0.7638910668364283,0.709335984607892,0.5953341437853121,0.5141732561461949,0.5956102387352561,0.6289054120636455,0.54478282667176,0.8370049478758408,0.5388859786336767,0.6449663624266878,0.7566931020844423,0.8177325112502417,0.5672759259340943,0.2310689183795484,0.5118232340264363,0.38952895978809937,0.40447084820569734,0.47932587764607626,0.4723633790856201,0.3144093260788878,0.36562031001643513,0.6270112448399409,0.6149669815445119,0.5590722543403144,0.6521414021900074,0.42377660815959317,0.7417035469473062,0.7754636820789287,0.6914182704333361,0.6609390439749038,0.7463066026982574,0.6383316844125173,0.822124924443879,0.3690061104445932,0.49459375723263627,0.24887269341246585,0.5636007140879956,0.27759359291318964,0.5314821448579476,0.4315437989462199,0.5054631289244587,0.32967405532550337,0.2340723711834791,0.4312675722188701,0.32553884403599526,0.4654511882428734,0.4599812841123246,0.23374299353915598,0.6435055297056754,0.5243697778564737,0.5965905748459306,0.3540781011701936,0.5334449992110495,0.4162862181520661,0.5690729564975721,0.4921938317081466,0.4730931101739768,0.5808266412958228,0.34865009240939926,0.3408800727740743,0.7543084701188493,0.6226869617016629,0.5582560770087268,0.40643949777329275,0.4822258655853625,0.15633756980862018,0.2991869637040734,0.27431196320581497,0.6639556610801159,0.5762035882670073,0.5371894203407429,0.6641210112948556,0.6944404638965085,0.6140797224712276,0.5506358073293064,0.7801105690799123,0.6588277375400803,0.8330728543114582,0.3067033193119042,0.7672785322883018,0.41138890082091106,0.3391451858842581,0.280157329977694,0.7018213704436281,0.4180493826908879,0.2828471536842853,0.3471359559021181,0.4986597112329139,0.645652374500069,0.46779634608857346,0.5135339666103342,0.4768625529955843,0.4046141370797844,0.37796774925055715,0.31911523987238116,0.21333297549208902,0.34530029899795545,0.25958289751031727,0.49797873114358515,0.10042122404736777,0.40645903150690865,0.6524232332735678,0.4875943723048837,0.5102777899880079,0.6364675876973187,0.5669595112051832,0.25172144712391076,0.5453898030193941,0.7368392251794373,0.7689301947578094,0.4747708650686438,0.24444863171645534,0.16864026124036832,0.39374371537419856,0.22137298963312857,0.48116839418581314,0.3429880369670898,0.5691974110998163,0.17592549145156924,0.38530595665849177,0.3201088664358792,0.2828742846087692,0.3456971598950523,0.49137021114325996,0.4771896973350991,0.5721704671128173,0.5807467990820353,0.5598209204394311,0.601530453009399,0.7524869234729561,0.6928519525182439,0.6654277458891867,0.49792208373750513,0.49526104409080707,0.33043596127183905,0.29171845382015504,0.27485421614808686,0.4175544079853578,0.49469209923414087,0.40486860688404847,0.37903116438579376,0.3311321010211091,0.4589435157644183,0.30717606275227344,0.6924821714298907,0.6711549627217755,0.5882854643951757,0.6227849088938773,0.26041060541610894,0.2972553265740487,0.5530990686286681,0.7001234038696671,0.6113971957103956,0.407745664846917,0.3405918845199137,0.23462462984915616,0.403745082065522,0.5563832374560358,0.4267434530990712,0.7037085180828588,0.7873857324002707,0.7768204088662042,0.7821275067925264,0.7881278725197344,0.6974393932585424,0.7987859226706459,0.4988598939759768,0.5149203954575302,0.31299132129710017,0.3929201465511724,0.1675819513201627,0.320480747623167,0.2184033517363607,0.2828316376581168,0.38261944199835635,0.3485081602140749,0.2720202822029221,0.7800780315413582,0.2885412945273419,0.37613705064992775,0.5461153808571132,0.650165973828241,0.6485273833908439,0.5999004907542214,0.4032882676840951,0.20508917353654646,0.1740954371149954,0.12550969482895838,0.8181922554721537,0.5911919503216412,0.6863960129784494,0.4126676568264127],\"arrayminus\":[0.5072057741158287,0.264647261897756,0.25430805562586445,0.7806925218986943,0.4164570652942801,0.34894123415773565,0.7003769594007421,0.7518472940905285,0.5705855659893663,0.45030538684896954,0.42400359452925007,0.6526594305485899,0.33908809661464917,0.22812875780363195,0.2656452441039262,0.2919434230845617,0.4874854138075883,0.3333627122048337,0.6094221710906143,0.5683746882858142,0.2908485421645296,0.3746533168047119,0.5129672706615297,0.4326459825303558,0.38928404871159145,0.37627395898195964,0.42718504609310554,0.452336700279285,0.2879868299039368,0.32423608608315474,0.18139469909253536,0.593563846927193,0.49422175256873857,0.6928931468270717,0.5532839441621363,0.6807777220070873,0.7952441545910238,0.16428560611705562,0.4690917921521126,0.42946276710054876,0.4496306119370809,0.3602682539400197,0.25511119306419067,0.3401439509714911,0.3916986932434154,0.28338308876815704,0.4051778092905086,0.3704335698570062,0.39624754049689237,0.20259306515331427,0.40857935410880114,0.23747393195675665,0.38657062650323054,0.5405783128470091,0.2813660017730873,0.3171080261953594,0.38150296407621054,0.2808844911371182,0.38387213684703386,0.37090977978807177,0.37415112839105014,0.3511253657443802,0.3352931804013579,0.3911369381941708,0.22503332177376442,0.4102414007918107,0.2759565809329072,0.3078756596599553,0.45211050359635696,0.6265163329664943,0.653437032907856,0.3644566336192512,0.4315800179283492,0.49563403743449513,0.6185885500356286,0.7784459116064639,0.6499579206552245,0.5629758789720009,0.79895869787072,0.6233323788025183,0.8474550344617361,0.7926218188878686,0.48642575316747133,0.31788546028905273,0.5016365228786888,0.2834360626933725,0.3954712127792171,0.4469326365249108,0.6366042716302402,0.6657999704207308,0.6015092079298217,0.6400795958911187,0.7487582072154916,0.8003588955870214,0.6152020523092296,0.5547966028901162,0.7911166805495163,0.7483498270578567,0.6447038734761662,0.6317448829937967,0.7982785493904354,0.7093762241402545,0.7152299819134886,0.787034332960442,0.5903149374705609,0.32212435350595475,0.36426812325171415,0.4825931288982329,0.44205806058015834,0.4555487017813589,0.5876135113515719,0.27253283332834366,0.7548777657787528,0.507558135288667,0.7574232667368728,0.4860334139080275,0.4745023668060566,0.3504461716555465,0.645698116550547,0.46153019596339045,0.5269032678948814,0.4908569675354477,0.5674581486652622,0.429686293140903,0.6217565771713969,0.6302391521470248,0.5248287803114536,0.47493031371508776,0.5491376612362796,0.49866936028473297,0.32398747389352756,0.483066406493038,0.7674496619349697,0.6442296558526247,0.6352303358063366,0.7468396284313497,0.7362713413375317,0.3732667215524556,0.5435455818665885,0.577171832257047,0.46926922422440154,0.5000750817871189,0.6663673737327585,0.598983115857244,0.5232391869947473,0.46594234814286006,0.417799100160518,0.7276702724561203,0.6177149329763375,0.5177160833964384,0.31210587704792003,0.2926123458086812,0.2493336032852939,0.3850454564196841,0.3624574854343215,0.28181409968709625,0.31514021831098427,0.20053446567446565,0.2392884454605411,0.36208012558390795,0.5008749071241713,0.5352430806738449,0.4238514648331157,0.5277360558214365,0.2951404076025834,0.31878912275872434,0.2763537636695599,0.22412886447178476,0.6163157784473722,0.1802790480109798,0.43556232462892563,0.6700738284240251,0.5547203403692008,0.46407642443322983,0.534289434504788,0.4390095864275748,0.6041206746770142,0.5076754030957145,0.6250367395676623,0.6125072997066363,0.6618412692616781,0.7378701712265144,0.7272674753970348,0.7149108445313158,0.8442370998499046,0.5809954503565883,0.5742401203332134,0.7486479288615067,0.7257517371671119,0.6830440452654691,0.4858279948125129,0.8877578330205252,0.3215143213805239,0.6435508505079176,0.3599169928082223,0.6805480767558537,0.6311756047578951,0.7910467147816627,0.5720157151078832,0.5020018913782806,0.18541885879543,0.38407630355031896,0.40670670923757885,0.3692298993682865,0.5243496447742463,0.5075086693397676,0.6420830271470855,0.5049831842702673,0.47234625301010374,0.6213282261167536,0.5683055507790313,0.6849841853005533,0.557276398749988,0.8426636344694947,0.33914131831741046,0.22804689302831344,0.429601253744848,0.23077901946523804,0.18295195073928158,0.3259028675565898,0.5975008013509951,0.36865516180473074,0.49277981063680815,0.23540583424994035,0.23610893316357814,0.2906640153921279,0.4046658562147359,0.4858267438538203,0.40438976126475834,0.3710945879363733,0.4552171733282346,0.16299505212416968,0.46111402136637736,0.3550336375733489,0.24330689791553176,0.18226748874980003,0.4327240740659028,0.768931081620449,0.4881767659735846,0.6104710402119251,0.5955291517943144,0.5206741223538994,0.5276366209143986,0.6855906739211386,0.6343796899835525,0.37298875516002555,0.3850330184555209,0.4409277456596912,0.3478585978099933,0.5762233918404217,0.25829645305267956,0.22453631792106998,0.30858172956663443,0.33906095602512315,0.2536933973017865,0.36166831558747947,0.17787507555611368,0.6309938895553991,0.5054062427673846,0.7511273065875109,0.43639928591198995,0.7224064070868258,0.4685178551420468,0.5684562010537902,0.49453687107555855,0.6703259446745339,0.765927628816515,0.5687324277811496,0.6744611559640262,0.5345488117571114,0.5400187158876932,0.7662570064608325,0.3564944702943325,0.475630222143523,0.40340942515407413,0.6459218988298151,0.4665550007889445,0.583713781847956,0.43092704350240785,0.5078061682918438,0.5269068898260209,0.4191733587041754,0.6513499075905852,0.6591199272259218,0.24569152988115942,0.3773130382983165,0.441743922991253,0.5935605022267212,0.5177741344146243,0.8436624301913868,0.7008130362959059,0.7256880367941871,0.3360443389198725,0.42379641173297744,0.4628105796592441,0.3358789887051339,0.3055595361035161,0.38592027752880037,0.4493641926707133,0.2198894309200793,0.34117226245990756,0.16692714568851622,0.6932966806880904,0.232721467711698,0.5886110991790743,0.6608548141157431,0.7198426700223344,0.298178629556388,0.5819506173090885,0.717152846315738,0.6528640440978665,0.5013402887671169,0.3543476254999061,0.5322036539114064,0.48646603338964295,0.5231374470044062,0.5953858629202283,0.6220322507494501,0.6808847601276187,0.7866670245079158,0.6546997010020675,0.7404171024896862,0.5020212688564424,0.8995787759526114,0.5935409684930663,0.3475767667264411,0.5124056276951379,0.48972221001202243,0.3635324123026893,0.43304048879481216,0.7482785528760727,0.454610196980553,0.2631607748205313,0.2310698052421735,0.5252291349313499,0.7555513682835704,0.831359738759639,0.6062562846257954,0.7786270103668882,0.5188316058141914,0.6570119630328842,0.4308025889001575,0.8240745085484188,0.6146940433414914,0.6798911335641262,0.7171257153912389,0.6543028401049509,0.5086297888567336,0.522810302664881,0.4278295328872064,0.41925320091795815,0.4401790795605391,0.3984695469906476,0.24751307652703466,0.3071480474817742,0.3345722541108605,0.5020779162625318,0.504738955909188,0.6695640387281534,0.7082815461798226,0.7251457838519002,0.5824455920146453,0.5053079007658314,0.5951313931159034,0.6209688356141894,0.668867898978865,0.5410564842355768,0.6928239372477012,0.3075178285701442,0.32884503727820713,0.411714535604802,0.37721509110615614,0.739589394583909,0.7027446734259792,0.4469009313713149,0.2998765961303436,0.3886028042896261,0.5922543351530904,0.6594081154800954,0.7653753701508459,0.5962549179344553,0.44361676254394644,0.5732565469009511,0.2962914819171424,0.21261426759973587,0.22317959113381766,0.21787249320751925,0.21187212748027304,0.30256060674143326,0.201214077329381,0.5011401060239953,0.4850796045424468,0.6870086787029167,0.6070798534488312,0.832418048679865,0.67951925237686,0.781596648263639,0.717168362341908,0.6173805580016608,0.65149183978591,0.7279797177970699,0.21992196845862377,0.711458705472636,0.6238629493500815,0.45388461914291195,0.3498340261717851,0.35147261660917845,0.40009950924579973,0.5967117323158896,0.7949108264634462,0.825904562885016,0.8744903051710655,0.1818077445278721,0.4088080496783587,0.3136039870215297,0.5873323431736029],\"symmetric\":false,\"type\":\"data\"},\"mode\":\"lines\",\"name\":\"close\",\"x\":[0,1,2,3,4,5,6,7,8,9,10,11,12,13,14,15,16,17,18,19,20,21,22,23,24,25,26,27,28,29,30,31,32,33,34,35,36,37,38,39,40,41,42,43,44,45,46,47,48,49,50,51,52,53,54,55,56,57,58,59,60,61,62,63,64,65,66,67,68,69,70,71,72,73,74,75,76,77,78,79,80,81,82,83,84,85,86,87,88,89,90,91,92,93,94,95,96,97,98,99,100,101,102,103,104,105,106,107,108,109,110,111,112,113,114,115,116,117,118,119,120,121,122,123,124,125,126,127,128,129,130,131,132,133,134,135,136,137,138,139,140,141,142,143,144,145,146,147,148,149,150,151,152,153,154,155,156,157,158,159,160,161,162,163,164,165,166,167,168,169,170,171,172,173,174,175,176,177,178,179,180,181,182,183,184,185,186,187,188,189,190,191,192,193,194,195,196,197,198,199,200,201,202,203,204,205,206,207,208,209,210,211,212,213,214,215,216,217,218,219,220,221,222,223,224,225,226,227,228,229,230,231,232,233,234,235,236,237,238,239,240,241,242,243,244,245,246,247,248,249,250,251,252,253,254,255,256,257,258,259,260,261,262,263,264,265,266,267,268,269,270,271,272,273,274,275,276,277,278,279,280,281,282,283,284,285,286,287,288,289,290,291,292,293,294,295,296,297,298,299,300,301,302,303,304,305,306,307,308,309,310,311,312,313,314,315,316,317,318,319,320,321,322,323,324,325,326,327,328,329,330,331,332,333,334,335,336,337,338,339,340,341,342,343,344,345,346,347,348,349,350,351,352,353,354,355,356,357,358,359,360,361,362,363,364,365,366,367,368,369,370,371,372,373,374,375,376,377,378,379,380,381,382,383,384,385,386,387,388,389,390,391,392,393,394,395,396,397,398,399,400,401,402,403,404,405,406,407,408,409,410,411,412,413,414,415],\"y\":[1514.3,1514.8,1514.1,1516.6,1514.2,1512.9,1518.9,1514.9,1516.7,1513.5,1514.6,1516.1,1510.6,1511.5,1512.3,1514.1,1512.9,1512.0,1513.4,1513.3,1512.6,1505.8,1505.7,1505.1,1503.7,1498.0,1500.8,1503.5,1495.7,1497.3,1503.2,1504.9,1507.1,1505.6,1503.4,1506.1,1504.0,1502.8,1501.3,1499.5,1498.8,1499.9,1500.3,1495.7,1498.2,1493.8,1494.2,1493.7,1492.8,1491.9,1490.5,1489.6,1476.1,1476.5,1471.4,1478.6,1480.2,1478.9,1479.5,1478.4,1476.4,1472.9,1473.3,1471.6,1470.2,1469.3,1465.8,1466.7,1473.1,1474.8,1474.3,1470.3,1470.2,1487.0,1489.7,1489.5,1488.9,1485.8,1486.5,1485.9,1486.3,1487.5,1484.8,1483.3,1483.7,1482.1,1483.9,1482.1,1488.2,1487.3,1490.1,1488.9,1491.3,1494.9,1503.1,1502.8,1507.4,1507.0,1510.6,1506.4,1504.7,1505.7,1505.6,1507.8,1506.8,1506.4,1504.0,1505.3,1504.9,1507.9,1503.7,1505.9,1507.6,1507.7,1511.0,1506.6,1507.1,1514.9,1516.8,1512.9,1512.7,1514.4,1512.6,1512.3,1512.9,1514.1,1514.6,1514.5,1515.1,1514.1,1513.8,1513.6,1514.8,1514.4,1515.3,1515.7,1515.3,1511.0,1507.2,1511.7,1510.8,1512.0,1513.5,1511.7,1510.5,1513.4,1513.7,1513.5,1514.2,1512.6,1512.2,1511.5,1511.1,1511.6,1507.9,1506.9,1508.2,1506.6,1503.9,1504.4,1505.1,1509.0,1504.8,1503.9,1495.5,1496.7,1497.3,1499.2,1497.9,1495.0,1498.7,1496.6,1496.5,1496.5,1496.8,1495.5,1498.7,1503.6,1505.3,1508.3,1510.1,1510.3,1513.7,1510.7,1508.7,1507.0,1504.9,1507.9,1511.3,1512.4,1513.5,1511.6,1512.4,1510.7,1511.3,1511.8,1511.3,1513.0,1513.4,1512.8,1508.1,1508.0,1506.8,1512.2,1512.7,1512.5,1512.4,1511.5,1512.5,1513.4,1513.0,1519.5,1518.9,1517.2,1511.3,1514.1,1514.4,1513.5,1511.7,1510.0,1515.3,1512.7,1513.4,1511.4,1512.8,1507.5,1502.2,1499.3,1499.4,1501.5,1502.5,1500.2,1498.8,1497.2,1498.8,1499.5,1501.3,1500.3,1499.9,1499.6,1499.4,1504.7,1506.6,1503.3,1502.8,1498.3,1489.5,1489.2,1490.0,1480.2,1483.7,1488.6,1488.0,1488.5,1483.8,1488.1,1488.0,1490.0,1491.8,1491.1,1491.1,1491.3,1490.6,1491.7,1492.8,1493.6,1497.8,1499.6,1500.1,1496.4,1497.7,1495.3,1496.3,1495.9,1497.6,1497.1,1495.8,1496.3,1495.9,1496.6,1497.0,1498.6,1498.9,1498.3,1496.7,1493.2,1495.9,1496.5,1498.9,1501.4,1498.3,1496.9,1491.3,1483.5,1486.1,1484.4,1483.6,1485.1,1484.7,1484.6,1484.3,1488.1,1486.7,1486.3,1486.6,1487.4,1487.1,1484.0,1487.8,1487.8,1486.0,1486.4,1484.2,1490.4,1489.1,1486.7,1490.8,1493.7,1493.3,1492.1,1494.4,1493.8,1494.4,1493.7,1491.9,1492.2,1492.1,1491.9,1492.0,1495.1,1494.6,1491.3,1489.3,1490.1,1492.5,1494.3,1496.6,1495.5,1497.5,1499.3,1498.9,1497.6,1495.8,1496.5,1496.9,1495.4,1495.6,1495.7,1496.2,1495.3,1495.4,1493.6,1492.2,1491.8,1491.5,1492.2,1492.0,1494.1,1495.7,1495.0,1495.8,1495.1,1494.6,1494.6,1494.5,1494.8,1494.7,1494.4,1493.8,1493.6,1493.5,1493.1,1495.0,1495.0,1494.0,1491.9,1494.4,1494.8,1494.6,1494.9,1494.5,1493.8,1488.2,1489.2,1487.7,1486.5,1486.4,1487.0,1486.9,1485.7,1486.8,1487.0,1486.9,1487.3,1488.7,1488.3,1491.6,1491.9,1491.3,1490.7,1489.4,1488.1,1491.6,1488.7,1487.2,1486.5,1488.0,1489.4,1490.2,1491.2,1492.1,1492.9,1491.7,1491.5,1492.2,1492.6],\"type\":\"scatter\",\"xaxis\":\"x\",\"yaxis\":\"y\"},{\"marker\":{\"color\":\"green\"},\"name\":\"buy\",\"opacity\":0.3,\"x\":[3,4,6,7,8,9,10,11,18,19,33,34,35,36,69,70,74,75,76,77,78,79,80,81,82,88,89,90,91,92,93,94,95,96,97,98,99,100,101,102,103,104,112,113,114,115,116,118,119,120,121,122,123,124,125,126,127,128,129,132,133,134,135,136,142,143,144,145,146,147,148,149,168,171,172,173,174,175,176,177,178,179,180,181,182,183,184,185,186,187,188,189,190,191,193,195,196,197,198,199,206,207,208,209,210,211,212,213,237,238,239,240,241,242,243,244,257,258,259,260,261,262,263,264,265,266,267,268,269,270,271,275,276,277,278,279,280,281,282,283,289,290,291,302,305,306,309,310,311,317,318,319,320,321,322,323,324,330,331,335,336,337,338,339,340,341,342,343,344,345,346,347,348,349,350,351,358,359,360,361,362,363,364,365,366,367,372,373,374,378,379,380,381,382,392,393,394,395,396,397,398,399,400,402,403,404,409,410,411],\"y\":[1519.5,1519.5,1519.5,1519.5,1519.5,1519.5,1519.5,1519.5,1519.5,1519.5,1519.5,1519.5,1519.5,1519.5,1519.5,1519.5,1519.5,1519.5,1519.5,1519.5,1519.5,1519.5,1519.5,1519.5,1519.5,1519.5,1519.5,1519.5,1519.5,1519.5,1519.5,1519.5,1519.5,1519.5,1519.5,1519.5,1519.5,1519.5,1519.5,1519.5,1519.5,1519.5,1519.5,1519.5,1519.5,1519.5,1519.5,1519.5,1519.5,1519.5,1519.5,1519.5,1519.5,1519.5,1519.5,1519.5,1519.5,1519.5,1519.5,1519.5,1519.5,1519.5,1519.5,1519.5,1519.5,1519.5,1519.5,1519.5,1519.5,1519.5,1519.5,1519.5,1519.5,1519.5,1519.5,1519.5,1519.5,1519.5,1519.5,1519.5,1519.5,1519.5,1519.5,1519.5,1519.5,1519.5,1519.5,1519.5,1519.5,1519.5,1519.5,1519.5,1519.5,1519.5,1519.5,1519.5,1519.5,1519.5,1519.5,1519.5,1519.5,1519.5,1519.5,1519.5,1519.5,1519.5,1519.5,1519.5,1519.5,1519.5,1519.5,1519.5,1519.5,1519.5,1519.5,1519.5,1519.5,1519.5,1519.5,1519.5,1519.5,1519.5,1519.5,1519.5,1519.5,1519.5,1519.5,1519.5,1519.5,1519.5,1519.5,1519.5,1519.5,1519.5,1519.5,1519.5,1519.5,1519.5,1519.5,1519.5,1519.5,1519.5,1519.5,1519.5,1519.5,1519.5,1519.5,1519.5,1519.5,1519.5,1519.5,1519.5,1519.5,1519.5,1519.5,1519.5,1519.5,1519.5,1519.5,1519.5,1519.5,1519.5,1519.5,1519.5,1519.5,1519.5,1519.5,1519.5,1519.5,1519.5,1519.5,1519.5,1519.5,1519.5,1519.5,1519.5,1519.5,1519.5,1519.5,1519.5,1519.5,1519.5,1519.5,1519.5,1519.5,1519.5,1519.5,1519.5,1519.5,1519.5,1519.5,1519.5,1519.5,1519.5,1519.5,1519.5,1519.5,1519.5,1519.5,1519.5,1519.5,1519.5,1519.5,1519.5,1519.5,1519.5,1519.5,1519.5,1519.5],\"type\":\"bar\",\"xaxis\":\"x\",\"yaxis\":\"y\"},{\"marker\":{\"color\":\"red\"},\"name\":\"sell\",\"opacity\":0.3,\"x\":[1,2,5,12,13,14,15,16,17,20,21,22,23,24,25,26,27,28,29,30,31,32,37,38,39,40,41,42,43,44,45,46,47,48,49,50,51,52,53,54,55,56,57,58,59,60,61,62,63,64,65,66,67,68,71,72,73,83,84,85,86,87,105,106,107,108,109,110,111,117,130,131,137,138,139,140,141,150,151,152,153,154,155,156,157,158,159,160,161,162,163,164,165,166,167,169,170,192,194,200,201,202,203,204,205,214,215,216,217,218,219,220,221,222,223,224,225,226,227,228,229,230,231,232,233,234,235,236,245,246,247,248,249,250,251,252,253,254,255,256,272,273,274,284,285,286,287,288,292,293,294,295,296,297,298,299,300,301,303,304,307,308,312,313,314,315,316,325,326,327,328,329,332,333,334,352,353,354,355,356,357,368,369,370,371,375,376,377,383,384,385,386,387,388,389,390,391,401,405,406,407,408,412,413,414,415],\"y\":[1519.5,1519.5,1519.5,1519.5,1519.5,1519.5,1519.5,1519.5,1519.5,1519.5,1519.5,1519.5,1519.5,1519.5,1519.5,1519.5,1519.5,1519.5,1519.5,1519.5,1519.5,1519.5,1519.5,1519.5,1519.5,1519.5,1519.5,1519.5,1519.5,1519.5,1519.5,1519.5,1519.5,1519.5,1519.5,1519.5,1519.5,1519.5,1519.5,1519.5,1519.5,1519.5,1519.5,1519.5,1519.5,1519.5,1519.5,1519.5,1519.5,1519.5,1519.5,1519.5,1519.5,1519.5,1519.5,1519.5,1519.5,1519.5,1519.5,1519.5,1519.5,1519.5,1519.5,1519.5,1519.5,1519.5,1519.5,1519.5,1519.5,1519.5,1519.5,1519.5,1519.5,1519.5,1519.5,1519.5,1519.5,1519.5,1519.5,1519.5,1519.5,1519.5,1519.5,1519.5,1519.5,1519.5,1519.5,1519.5,1519.5,1519.5,1519.5,1519.5,1519.5,1519.5,1519.5,1519.5,1519.5,1519.5,1519.5,1519.5,1519.5,1519.5,1519.5,1519.5,1519.5,1519.5,1519.5,1519.5,1519.5,1519.5,1519.5,1519.5,1519.5,1519.5,1519.5,1519.5,1519.5,1519.5,1519.5,1519.5,1519.5,1519.5,1519.5,1519.5,1519.5,1519.5,1519.5,1519.5,1519.5,1519.5,1519.5,1519.5,1519.5,1519.5,1519.5,1519.5,1519.5,1519.5,1519.5,1519.5,1519.5,1519.5,1519.5,1519.5,1519.5,1519.5,1519.5,1519.5,1519.5,1519.5,1519.5,1519.5,1519.5,1519.5,1519.5,1519.5,1519.5,1519.5,1519.5,1519.5,1519.5,1519.5,1519.5,1519.5,1519.5,1519.5,1519.5,1519.5,1519.5,1519.5,1519.5,1519.5,1519.5,1519.5,1519.5,1519.5,1519.5,1519.5,1519.5,1519.5,1519.5,1519.5,1519.5,1519.5,1519.5,1519.5,1519.5,1519.5,1519.5,1519.5,1519.5,1519.5,1519.5,1519.5,1519.5,1519.5,1519.5,1519.5,1519.5,1519.5,1519.5,1519.5,1519.5,1519.5,1519.5,1519.5],\"type\":\"bar\",\"xaxis\":\"x\",\"yaxis\":\"y\"}],                        {\"template\":{\"data\":{\"bar\":[{\"error_x\":{\"color\":\"#2a3f5f\"},\"error_y\":{\"color\":\"#2a3f5f\"},\"marker\":{\"line\":{\"color\":\"#E5ECF6\",\"width\":0.5},\"pattern\":{\"fillmode\":\"overlay\",\"size\":10,\"solidity\":0.2}},\"type\":\"bar\"}],\"barpolar\":[{\"marker\":{\"line\":{\"color\":\"#E5ECF6\",\"width\":0.5},\"pattern\":{\"fillmode\":\"overlay\",\"size\":10,\"solidity\":0.2}},\"type\":\"barpolar\"}],\"carpet\":[{\"aaxis\":{\"endlinecolor\":\"#2a3f5f\",\"gridcolor\":\"white\",\"linecolor\":\"white\",\"minorgridcolor\":\"white\",\"startlinecolor\":\"#2a3f5f\"},\"baxis\":{\"endlinecolor\":\"#2a3f5f\",\"gridcolor\":\"white\",\"linecolor\":\"white\",\"minorgridcolor\":\"white\",\"startlinecolor\":\"#2a3f5f\"},\"type\":\"carpet\"}],\"choropleth\":[{\"colorbar\":{\"outlinewidth\":0,\"ticks\":\"\"},\"type\":\"choropleth\"}],\"contour\":[{\"colorbar\":{\"outlinewidth\":0,\"ticks\":\"\"},\"colorscale\":[[0.0,\"#0d0887\"],[0.1111111111111111,\"#46039f\"],[0.2222222222222222,\"#7201a8\"],[0.3333333333333333,\"#9c179e\"],[0.4444444444444444,\"#bd3786\"],[0.5555555555555556,\"#d8576b\"],[0.6666666666666666,\"#ed7953\"],[0.7777777777777778,\"#fb9f3a\"],[0.8888888888888888,\"#fdca26\"],[1.0,\"#f0f921\"]],\"type\":\"contour\"}],\"contourcarpet\":[{\"colorbar\":{\"outlinewidth\":0,\"ticks\":\"\"},\"type\":\"contourcarpet\"}],\"heatmap\":[{\"colorbar\":{\"outlinewidth\":0,\"ticks\":\"\"},\"colorscale\":[[0.0,\"#0d0887\"],[0.1111111111111111,\"#46039f\"],[0.2222222222222222,\"#7201a8\"],[0.3333333333333333,\"#9c179e\"],[0.4444444444444444,\"#bd3786\"],[0.5555555555555556,\"#d8576b\"],[0.6666666666666666,\"#ed7953\"],[0.7777777777777778,\"#fb9f3a\"],[0.8888888888888888,\"#fdca26\"],[1.0,\"#f0f921\"]],\"type\":\"heatmap\"}],\"heatmapgl\":[{\"colorbar\":{\"outlinewidth\":0,\"ticks\":\"\"},\"colorscale\":[[0.0,\"#0d0887\"],[0.1111111111111111,\"#46039f\"],[0.2222222222222222,\"#7201a8\"],[0.3333333333333333,\"#9c179e\"],[0.4444444444444444,\"#bd3786\"],[0.5555555555555556,\"#d8576b\"],[0.6666666666666666,\"#ed7953\"],[0.7777777777777778,\"#fb9f3a\"],[0.8888888888888888,\"#fdca26\"],[1.0,\"#f0f921\"]],\"type\":\"heatmapgl\"}],\"histogram\":[{\"marker\":{\"pattern\":{\"fillmode\":\"overlay\",\"size\":10,\"solidity\":0.2}},\"type\":\"histogram\"}],\"histogram2d\":[{\"colorbar\":{\"outlinewidth\":0,\"ticks\":\"\"},\"colorscale\":[[0.0,\"#0d0887\"],[0.1111111111111111,\"#46039f\"],[0.2222222222222222,\"#7201a8\"],[0.3333333333333333,\"#9c179e\"],[0.4444444444444444,\"#bd3786\"],[0.5555555555555556,\"#d8576b\"],[0.6666666666666666,\"#ed7953\"],[0.7777777777777778,\"#fb9f3a\"],[0.8888888888888888,\"#fdca26\"],[1.0,\"#f0f921\"]],\"type\":\"histogram2d\"}],\"histogram2dcontour\":[{\"colorbar\":{\"outlinewidth\":0,\"ticks\":\"\"},\"colorscale\":[[0.0,\"#0d0887\"],[0.1111111111111111,\"#46039f\"],[0.2222222222222222,\"#7201a8\"],[0.3333333333333333,\"#9c179e\"],[0.4444444444444444,\"#bd3786\"],[0.5555555555555556,\"#d8576b\"],[0.6666666666666666,\"#ed7953\"],[0.7777777777777778,\"#fb9f3a\"],[0.8888888888888888,\"#fdca26\"],[1.0,\"#f0f921\"]],\"type\":\"histogram2dcontour\"}],\"mesh3d\":[{\"colorbar\":{\"outlinewidth\":0,\"ticks\":\"\"},\"type\":\"mesh3d\"}],\"parcoords\":[{\"line\":{\"colorbar\":{\"outlinewidth\":0,\"ticks\":\"\"}},\"type\":\"parcoords\"}],\"pie\":[{\"automargin\":true,\"type\":\"pie\"}],\"scatter\":[{\"marker\":{\"colorbar\":{\"outlinewidth\":0,\"ticks\":\"\"}},\"type\":\"scatter\"}],\"scatter3d\":[{\"line\":{\"colorbar\":{\"outlinewidth\":0,\"ticks\":\"\"}},\"marker\":{\"colorbar\":{\"outlinewidth\":0,\"ticks\":\"\"}},\"type\":\"scatter3d\"}],\"scattercarpet\":[{\"marker\":{\"colorbar\":{\"outlinewidth\":0,\"ticks\":\"\"}},\"type\":\"scattercarpet\"}],\"scattergeo\":[{\"marker\":{\"colorbar\":{\"outlinewidth\":0,\"ticks\":\"\"}},\"type\":\"scattergeo\"}],\"scattergl\":[{\"marker\":{\"colorbar\":{\"outlinewidth\":0,\"ticks\":\"\"}},\"type\":\"scattergl\"}],\"scattermapbox\":[{\"marker\":{\"colorbar\":{\"outlinewidth\":0,\"ticks\":\"\"}},\"type\":\"scattermapbox\"}],\"scatterpolar\":[{\"marker\":{\"colorbar\":{\"outlinewidth\":0,\"ticks\":\"\"}},\"type\":\"scatterpolar\"}],\"scatterpolargl\":[{\"marker\":{\"colorbar\":{\"outlinewidth\":0,\"ticks\":\"\"}},\"type\":\"scatterpolargl\"}],\"scatterternary\":[{\"marker\":{\"colorbar\":{\"outlinewidth\":0,\"ticks\":\"\"}},\"type\":\"scatterternary\"}],\"surface\":[{\"colorbar\":{\"outlinewidth\":0,\"ticks\":\"\"},\"colorscale\":[[0.0,\"#0d0887\"],[0.1111111111111111,\"#46039f\"],[0.2222222222222222,\"#7201a8\"],[0.3333333333333333,\"#9c179e\"],[0.4444444444444444,\"#bd3786\"],[0.5555555555555556,\"#d8576b\"],[0.6666666666666666,\"#ed7953\"],[0.7777777777777778,\"#fb9f3a\"],[0.8888888888888888,\"#fdca26\"],[1.0,\"#f0f921\"]],\"type\":\"surface\"}],\"table\":[{\"cells\":{\"fill\":{\"color\":\"#EBF0F8\"},\"line\":{\"color\":\"white\"}},\"header\":{\"fill\":{\"color\":\"#C8D4E3\"},\"line\":{\"color\":\"white\"}},\"type\":\"table\"}]},\"layout\":{\"annotationdefaults\":{\"arrowcolor\":\"#2a3f5f\",\"arrowhead\":0,\"arrowwidth\":1},\"autotypenumbers\":\"strict\",\"coloraxis\":{\"colorbar\":{\"outlinewidth\":0,\"ticks\":\"\"}},\"colorscale\":{\"diverging\":[[0,\"#8e0152\"],[0.1,\"#c51b7d\"],[0.2,\"#de77ae\"],[0.3,\"#f1b6da\"],[0.4,\"#fde0ef\"],[0.5,\"#f7f7f7\"],[0.6,\"#e6f5d0\"],[0.7,\"#b8e186\"],[0.8,\"#7fbc41\"],[0.9,\"#4d9221\"],[1,\"#276419\"]],\"sequential\":[[0.0,\"#0d0887\"],[0.1111111111111111,\"#46039f\"],[0.2222222222222222,\"#7201a8\"],[0.3333333333333333,\"#9c179e\"],[0.4444444444444444,\"#bd3786\"],[0.5555555555555556,\"#d8576b\"],[0.6666666666666666,\"#ed7953\"],[0.7777777777777778,\"#fb9f3a\"],[0.8888888888888888,\"#fdca26\"],[1.0,\"#f0f921\"]],\"sequentialminus\":[[0.0,\"#0d0887\"],[0.1111111111111111,\"#46039f\"],[0.2222222222222222,\"#7201a8\"],[0.3333333333333333,\"#9c179e\"],[0.4444444444444444,\"#bd3786\"],[0.5555555555555556,\"#d8576b\"],[0.6666666666666666,\"#ed7953\"],[0.7777777777777778,\"#fb9f3a\"],[0.8888888888888888,\"#fdca26\"],[1.0,\"#f0f921\"]]},\"colorway\":[\"#636efa\",\"#EF553B\",\"#00cc96\",\"#ab63fa\",\"#FFA15A\",\"#19d3f3\",\"#FF6692\",\"#B6E880\",\"#FF97FF\",\"#FECB52\"],\"font\":{\"color\":\"#2a3f5f\"},\"geo\":{\"bgcolor\":\"white\",\"lakecolor\":\"white\",\"landcolor\":\"#E5ECF6\",\"showlakes\":true,\"showland\":true,\"subunitcolor\":\"white\"},\"hoverlabel\":{\"align\":\"left\"},\"hovermode\":\"closest\",\"mapbox\":{\"style\":\"light\"},\"paper_bgcolor\":\"white\",\"plot_bgcolor\":\"#E5ECF6\",\"polar\":{\"angularaxis\":{\"gridcolor\":\"white\",\"linecolor\":\"white\",\"ticks\":\"\"},\"bgcolor\":\"#E5ECF6\",\"radialaxis\":{\"gridcolor\":\"white\",\"linecolor\":\"white\",\"ticks\":\"\"}},\"scene\":{\"xaxis\":{\"backgroundcolor\":\"#E5ECF6\",\"gridcolor\":\"white\",\"gridwidth\":2,\"linecolor\":\"white\",\"showbackground\":true,\"ticks\":\"\",\"zerolinecolor\":\"white\"},\"yaxis\":{\"backgroundcolor\":\"#E5ECF6\",\"gridcolor\":\"white\",\"gridwidth\":2,\"linecolor\":\"white\",\"showbackground\":true,\"ticks\":\"\",\"zerolinecolor\":\"white\"},\"zaxis\":{\"backgroundcolor\":\"#E5ECF6\",\"gridcolor\":\"white\",\"gridwidth\":2,\"linecolor\":\"white\",\"showbackground\":true,\"ticks\":\"\",\"zerolinecolor\":\"white\"}},\"shapedefaults\":{\"line\":{\"color\":\"#2a3f5f\"}},\"ternary\":{\"aaxis\":{\"gridcolor\":\"white\",\"linecolor\":\"white\",\"ticks\":\"\"},\"baxis\":{\"gridcolor\":\"white\",\"linecolor\":\"white\",\"ticks\":\"\"},\"bgcolor\":\"#E5ECF6\",\"caxis\":{\"gridcolor\":\"white\",\"linecolor\":\"white\",\"ticks\":\"\"}},\"title\":{\"x\":0.05},\"xaxis\":{\"automargin\":true,\"gridcolor\":\"white\",\"linecolor\":\"white\",\"ticks\":\"\",\"title\":{\"standoff\":15},\"zerolinecolor\":\"white\",\"zerolinewidth\":2},\"yaxis\":{\"automargin\":true,\"gridcolor\":\"white\",\"linecolor\":\"white\",\"ticks\":\"\",\"title\":{\"standoff\":15},\"zerolinecolor\":\"white\",\"zerolinewidth\":2}}},\"xaxis\":{\"anchor\":\"y\",\"domain\":[0.0,0.94]},\"yaxis\":{\"anchor\":\"x\",\"domain\":[0.0,1.0],\"range\":[1465.8,1519.5]},\"yaxis2\":{\"anchor\":\"x\",\"overlaying\":\"y\",\"side\":\"right\"},\"title\":{\"text\":\"\\u0420\\u0430\\u0437\\u043c\\u0435\\u0447\\u0435\\u043d\\u043d\\u043e\\u0435 \\u0434\\u0432\\u0438\\u0436\\u0435\\u043d\\u0438\\u0435 \\u0446\\u0435\\u043d\\u044b \\u043d\\u0430 \\u0444\\u043e\\u0440\\u0432\\u0430\\u0440\\u0434\\u0435 \\u0441 \\u043f\\u0440\\u0435\\u043e\\u0431\\u0440\\u0430\\u0437\\u043e\\u0432\\u0430\\u043d\\u0438\\u0435\\u043c log > \\u043a\\u043e\\u0440\\u0435\\u043d\\u044c 3-\\u0441\\u0442\\u0435\\u043f\\u0435\\u043d\\u0438\"}},                        {\"responsive\": true}                    ).then(function(){\n",
              "                            \n",
              "var gd = document.getElementById('57a2bc7a-7bd2-4827-9b01-a49476bf5eb1');\n",
              "var x = new MutationObserver(function (mutations, observer) {{\n",
              "        var display = window.getComputedStyle(gd).display;\n",
              "        if (!display || display === 'none') {{\n",
              "            console.log([gd, 'removed!']);\n",
              "            Plotly.purge(gd);\n",
              "            observer.disconnect();\n",
              "        }}\n",
              "}});\n",
              "\n",
              "// Listen for the removal of the full notebook cells\n",
              "var notebookContainer = gd.closest('#notebook-container');\n",
              "if (notebookContainer) {{\n",
              "    x.observe(notebookContainer, {childList: true});\n",
              "}}\n",
              "\n",
              "// Listen for the clearing of the current output cell\n",
              "var outputEl = gd.closest('.output');\n",
              "if (outputEl) {{\n",
              "    x.observe(outputEl, {childList: true});\n",
              "}}\n",
              "\n",
              "                        })                };                            </script>        </div>\n",
              "</body>\n",
              "</html>"
            ]
          },
          "metadata": {}
        }
      ]
    },
    {
      "cell_type": "code",
      "source": [
        "eval_frame"
      ],
      "metadata": {
        "colab": {
          "base_uri": "https://localhost:8080/",
          "height": 424
        },
        "id": "VamkMeWOL1dO",
        "outputId": "4b7a1c85-3c64-485d-9dec-5b0fd52d7298"
      },
      "execution_count": null,
      "outputs": [
        {
          "output_type": "execute_result",
          "data": {
            "text/plain": [
              "                Datetime    Open    High     Low   Close  Volume  Signal  \\\n",
              "0    2019-09-26 07:40:00  1513.8  1514.4  1513.4  1514.3   566.0       0   \n",
              "1    2019-09-26 08:40:00  1514.8  1515.1  1514.4  1514.8   612.0      -1   \n",
              "2    2019-09-26 09:40:00  1514.4  1514.5  1514.0  1514.1   228.0      -1   \n",
              "3    2019-09-26 10:40:00  1516.7  1517.3  1516.6  1516.6  1368.0       1   \n",
              "4    2019-09-26 11:40:00  1514.3  1514.3  1513.7  1514.2   723.0       1   \n",
              "..                   ...     ...     ...     ...     ...     ...     ...   \n",
              "411  2019-10-23 00:40:00  1492.7  1493.0  1492.5  1492.9   208.0       1   \n",
              "412  2019-10-23 01:40:00  1491.5  1491.9  1491.5  1491.7   303.0      -1   \n",
              "413  2019-10-23 02:40:00  1491.4  1491.6  1491.3  1491.5   260.0      -1   \n",
              "414  2019-10-23 03:40:00  1492.1  1492.2  1492.0  1492.2   131.0      -1   \n",
              "415  2019-10-23 04:40:00  1492.4  1492.7  1492.4  1492.6    83.0      -1   \n",
              "\n",
              "     sell_prob  buy_prob  \n",
              "0     0.492794  0.507206  \n",
              "1     0.735353  0.264647  \n",
              "2     0.745692  0.254308  \n",
              "3     0.219307  0.780693  \n",
              "4     0.583543  0.416457  \n",
              "..         ...       ...  \n",
              "411   0.125510  0.874490  \n",
              "412   0.818192  0.181808  \n",
              "413   0.591192  0.408808  \n",
              "414   0.686396  0.313604  \n",
              "415   0.412668  0.587332  \n",
              "\n",
              "[416 rows x 9 columns]"
            ],
            "text/html": [
              "\n",
              "  <div id=\"df-fcbd4575-8a9c-4057-b701-dcca800623ec\">\n",
              "    <div class=\"colab-df-container\">\n",
              "      <div>\n",
              "<style scoped>\n",
              "    .dataframe tbody tr th:only-of-type {\n",
              "        vertical-align: middle;\n",
              "    }\n",
              "\n",
              "    .dataframe tbody tr th {\n",
              "        vertical-align: top;\n",
              "    }\n",
              "\n",
              "    .dataframe thead th {\n",
              "        text-align: right;\n",
              "    }\n",
              "</style>\n",
              "<table border=\"1\" class=\"dataframe\">\n",
              "  <thead>\n",
              "    <tr style=\"text-align: right;\">\n",
              "      <th></th>\n",
              "      <th>Datetime</th>\n",
              "      <th>Open</th>\n",
              "      <th>High</th>\n",
              "      <th>Low</th>\n",
              "      <th>Close</th>\n",
              "      <th>Volume</th>\n",
              "      <th>Signal</th>\n",
              "      <th>sell_prob</th>\n",
              "      <th>buy_prob</th>\n",
              "    </tr>\n",
              "  </thead>\n",
              "  <tbody>\n",
              "    <tr>\n",
              "      <th>0</th>\n",
              "      <td>2019-09-26 07:40:00</td>\n",
              "      <td>1513.8</td>\n",
              "      <td>1514.4</td>\n",
              "      <td>1513.4</td>\n",
              "      <td>1514.3</td>\n",
              "      <td>566.0</td>\n",
              "      <td>0</td>\n",
              "      <td>0.492794</td>\n",
              "      <td>0.507206</td>\n",
              "    </tr>\n",
              "    <tr>\n",
              "      <th>1</th>\n",
              "      <td>2019-09-26 08:40:00</td>\n",
              "      <td>1514.8</td>\n",
              "      <td>1515.1</td>\n",
              "      <td>1514.4</td>\n",
              "      <td>1514.8</td>\n",
              "      <td>612.0</td>\n",
              "      <td>-1</td>\n",
              "      <td>0.735353</td>\n",
              "      <td>0.264647</td>\n",
              "    </tr>\n",
              "    <tr>\n",
              "      <th>2</th>\n",
              "      <td>2019-09-26 09:40:00</td>\n",
              "      <td>1514.4</td>\n",
              "      <td>1514.5</td>\n",
              "      <td>1514.0</td>\n",
              "      <td>1514.1</td>\n",
              "      <td>228.0</td>\n",
              "      <td>-1</td>\n",
              "      <td>0.745692</td>\n",
              "      <td>0.254308</td>\n",
              "    </tr>\n",
              "    <tr>\n",
              "      <th>3</th>\n",
              "      <td>2019-09-26 10:40:00</td>\n",
              "      <td>1516.7</td>\n",
              "      <td>1517.3</td>\n",
              "      <td>1516.6</td>\n",
              "      <td>1516.6</td>\n",
              "      <td>1368.0</td>\n",
              "      <td>1</td>\n",
              "      <td>0.219307</td>\n",
              "      <td>0.780693</td>\n",
              "    </tr>\n",
              "    <tr>\n",
              "      <th>4</th>\n",
              "      <td>2019-09-26 11:40:00</td>\n",
              "      <td>1514.3</td>\n",
              "      <td>1514.3</td>\n",
              "      <td>1513.7</td>\n",
              "      <td>1514.2</td>\n",
              "      <td>723.0</td>\n",
              "      <td>1</td>\n",
              "      <td>0.583543</td>\n",
              "      <td>0.416457</td>\n",
              "    </tr>\n",
              "    <tr>\n",
              "      <th>...</th>\n",
              "      <td>...</td>\n",
              "      <td>...</td>\n",
              "      <td>...</td>\n",
              "      <td>...</td>\n",
              "      <td>...</td>\n",
              "      <td>...</td>\n",
              "      <td>...</td>\n",
              "      <td>...</td>\n",
              "      <td>...</td>\n",
              "    </tr>\n",
              "    <tr>\n",
              "      <th>411</th>\n",
              "      <td>2019-10-23 00:40:00</td>\n",
              "      <td>1492.7</td>\n",
              "      <td>1493.0</td>\n",
              "      <td>1492.5</td>\n",
              "      <td>1492.9</td>\n",
              "      <td>208.0</td>\n",
              "      <td>1</td>\n",
              "      <td>0.125510</td>\n",
              "      <td>0.874490</td>\n",
              "    </tr>\n",
              "    <tr>\n",
              "      <th>412</th>\n",
              "      <td>2019-10-23 01:40:00</td>\n",
              "      <td>1491.5</td>\n",
              "      <td>1491.9</td>\n",
              "      <td>1491.5</td>\n",
              "      <td>1491.7</td>\n",
              "      <td>303.0</td>\n",
              "      <td>-1</td>\n",
              "      <td>0.818192</td>\n",
              "      <td>0.181808</td>\n",
              "    </tr>\n",
              "    <tr>\n",
              "      <th>413</th>\n",
              "      <td>2019-10-23 02:40:00</td>\n",
              "      <td>1491.4</td>\n",
              "      <td>1491.6</td>\n",
              "      <td>1491.3</td>\n",
              "      <td>1491.5</td>\n",
              "      <td>260.0</td>\n",
              "      <td>-1</td>\n",
              "      <td>0.591192</td>\n",
              "      <td>0.408808</td>\n",
              "    </tr>\n",
              "    <tr>\n",
              "      <th>414</th>\n",
              "      <td>2019-10-23 03:40:00</td>\n",
              "      <td>1492.1</td>\n",
              "      <td>1492.2</td>\n",
              "      <td>1492.0</td>\n",
              "      <td>1492.2</td>\n",
              "      <td>131.0</td>\n",
              "      <td>-1</td>\n",
              "      <td>0.686396</td>\n",
              "      <td>0.313604</td>\n",
              "    </tr>\n",
              "    <tr>\n",
              "      <th>415</th>\n",
              "      <td>2019-10-23 04:40:00</td>\n",
              "      <td>1492.4</td>\n",
              "      <td>1492.7</td>\n",
              "      <td>1492.4</td>\n",
              "      <td>1492.6</td>\n",
              "      <td>83.0</td>\n",
              "      <td>-1</td>\n",
              "      <td>0.412668</td>\n",
              "      <td>0.587332</td>\n",
              "    </tr>\n",
              "  </tbody>\n",
              "</table>\n",
              "<p>416 rows × 9 columns</p>\n",
              "</div>\n",
              "      <button class=\"colab-df-convert\" onclick=\"convertToInteractive('df-fcbd4575-8a9c-4057-b701-dcca800623ec')\"\n",
              "              title=\"Convert this dataframe to an interactive table.\"\n",
              "              style=\"display:none;\">\n",
              "        \n",
              "  <svg xmlns=\"http://www.w3.org/2000/svg\" height=\"24px\"viewBox=\"0 0 24 24\"\n",
              "       width=\"24px\">\n",
              "    <path d=\"M0 0h24v24H0V0z\" fill=\"none\"/>\n",
              "    <path d=\"M18.56 5.44l.94 2.06.94-2.06 2.06-.94-2.06-.94-.94-2.06-.94 2.06-2.06.94zm-11 1L8.5 8.5l.94-2.06 2.06-.94-2.06-.94L8.5 2.5l-.94 2.06-2.06.94zm10 10l.94 2.06.94-2.06 2.06-.94-2.06-.94-.94-2.06-.94 2.06-2.06.94z\"/><path d=\"M17.41 7.96l-1.37-1.37c-.4-.4-.92-.59-1.43-.59-.52 0-1.04.2-1.43.59L10.3 9.45l-7.72 7.72c-.78.78-.78 2.05 0 2.83L4 21.41c.39.39.9.59 1.41.59.51 0 1.02-.2 1.41-.59l7.78-7.78 2.81-2.81c.8-.78.8-2.07 0-2.86zM5.41 20L4 18.59l7.72-7.72 1.47 1.35L5.41 20z\"/>\n",
              "  </svg>\n",
              "      </button>\n",
              "      \n",
              "  <style>\n",
              "    .colab-df-container {\n",
              "      display:flex;\n",
              "      flex-wrap:wrap;\n",
              "      gap: 12px;\n",
              "    }\n",
              "\n",
              "    .colab-df-convert {\n",
              "      background-color: #E8F0FE;\n",
              "      border: none;\n",
              "      border-radius: 50%;\n",
              "      cursor: pointer;\n",
              "      display: none;\n",
              "      fill: #1967D2;\n",
              "      height: 32px;\n",
              "      padding: 0 0 0 0;\n",
              "      width: 32px;\n",
              "    }\n",
              "\n",
              "    .colab-df-convert:hover {\n",
              "      background-color: #E2EBFA;\n",
              "      box-shadow: 0px 1px 2px rgba(60, 64, 67, 0.3), 0px 1px 3px 1px rgba(60, 64, 67, 0.15);\n",
              "      fill: #174EA6;\n",
              "    }\n",
              "\n",
              "    [theme=dark] .colab-df-convert {\n",
              "      background-color: #3B4455;\n",
              "      fill: #D2E3FC;\n",
              "    }\n",
              "\n",
              "    [theme=dark] .colab-df-convert:hover {\n",
              "      background-color: #434B5C;\n",
              "      box-shadow: 0px 1px 3px 1px rgba(0, 0, 0, 0.15);\n",
              "      filter: drop-shadow(0px 1px 2px rgba(0, 0, 0, 0.3));\n",
              "      fill: #FFFFFF;\n",
              "    }\n",
              "  </style>\n",
              "\n",
              "      <script>\n",
              "        const buttonEl =\n",
              "          document.querySelector('#df-fcbd4575-8a9c-4057-b701-dcca800623ec button.colab-df-convert');\n",
              "        buttonEl.style.display =\n",
              "          google.colab.kernel.accessAllowed ? 'block' : 'none';\n",
              "\n",
              "        async function convertToInteractive(key) {\n",
              "          const element = document.querySelector('#df-fcbd4575-8a9c-4057-b701-dcca800623ec');\n",
              "          const dataTable =\n",
              "            await google.colab.kernel.invokeFunction('convertToInteractive',\n",
              "                                                     [key], {});\n",
              "          if (!dataTable) return;\n",
              "\n",
              "          const docLinkHtml = 'Like what you see? Visit the ' +\n",
              "            '<a target=\"_blank\" href=https://colab.research.google.com/notebooks/data_table.ipynb>data table notebook</a>'\n",
              "            + ' to learn more about interactive tables.';\n",
              "          element.innerHTML = '';\n",
              "          dataTable['output_type'] = 'display_data';\n",
              "          await google.colab.output.renderOutput(dataTable, element);\n",
              "          const docLink = document.createElement('div');\n",
              "          docLink.innerHTML = docLinkHtml;\n",
              "          element.appendChild(docLink);\n",
              "        }\n",
              "      </script>\n",
              "    </div>\n",
              "  </div>\n",
              "  "
            ]
          },
          "metadata": {},
          "execution_count": 130
        }
      ]
    },
    {
      "cell_type": "code",
      "source": [
        "eval_frame[eval_frame[\"Datetime\"] == '2019-10-23 04:40:00'].index.values[0]"
      ],
      "metadata": {
        "colab": {
          "base_uri": "https://localhost:8080/"
        },
        "id": "KAOkBGxmbx4d",
        "outputId": "03d79504-1cee-41d5-f9e9-f1e0d623fbee"
      },
      "execution_count": null,
      "outputs": [
        {
          "output_type": "execute_result",
          "data": {
            "text/plain": [
              "415"
            ]
          },
          "metadata": {},
          "execution_count": 133
        }
      ]
    },
    {
      "cell_type": "code",
      "source": [
        "import plotly.graph_objects as go\n",
        "from plotly.subplots import make_subplots\n",
        "\n",
        "\n",
        "fig = go.Figure()\n",
        "#fig = make_subplots(specs=[[{\"secondary_y\": True}]])\n",
        "fig.add_trace(go.Scatter(x= eval_frame.index, y=eval_frame[\"Close\"],\n",
        "                    mode='lines',\n",
        "                    name='close'))\n",
        "\n",
        "\n",
        "fig.add_trace(go.Scatter(\n",
        "        name='sell probability',\n",
        "        x=eval_frame.index,\n",
        "        y=eval_frame['Close']+eval_frame['sell_prob'],\n",
        "        mode='lines',\n",
        "        fill='tonexty',\n",
        "        fillcolor = \"salmon\",\n",
        "        \n",
        "    ))\n",
        "fig.add_trace(go.Scatter(\n",
        "        name='buy probability',\n",
        "        x=eval_frame.index,\n",
        "        y=eval_frame['Close']-eval_frame['buy_prob'],\n",
        "        marker=dict(color=\"#444\"),\n",
        "        line=dict(width=0),\n",
        "        mode='lines',\n",
        "        fill='tonexty',\n",
        "       \n",
        "      \n",
        "    ))\n",
        "\n",
        "fig.add_trace(go.Bar(\n",
        "    x=buy,\n",
        "    y=[eval_frame[\"Close\"].max() for i in range(len(buy))],\n",
        "    name='buy',\n",
        "    marker_color='green', opacity=0.3\n",
        "))\n",
        "fig.add_trace(go.Bar(\n",
        "    x=sell,\n",
        "    y=[eval_frame[\"Close\"].max() for i in range(len(sell))],\n",
        "    name='sell',\n",
        "    marker_color='red',opacity=0.3\n",
        "))\n",
        "\n",
        "'''fig.add_trace(go.Scatter(x= eval_frame.index, y=sell_prob,\n",
        "                    mode='lines',\n",
        "                    name='sell_prob'), secondary_y=True)\n",
        "\n",
        "fig.add_trace(go.Scatter(x= eval_frame.index, y=buy_prob,\n",
        "                    mode='lines',\n",
        "                    name='buy_prob'), secondary_y=True)'''\n",
        "fig.update_layout(\n",
        "    title=\"Размеченное движение цены на форварде с преобразованием log > корень 3-степени\")\n",
        "fig.update_yaxes(range=[eval_frame[\"Close\"].min(), eval_frame[\"Close\"].max()])\n",
        "\n",
        "fig.show()"
      ],
      "metadata": {
        "colab": {
          "base_uri": "https://localhost:8080/",
          "height": 542
        },
        "id": "Fu8-dimkkC_o",
        "outputId": "1cf3ab99-8a19-4c9f-dd1b-013a330dd36c"
      },
      "execution_count": null,
      "outputs": [
        {
          "output_type": "display_data",
          "data": {
            "text/html": [
              "<html>\n",
              "<head><meta charset=\"utf-8\" /></head>\n",
              "<body>\n",
              "    <div>            <script src=\"https://cdnjs.cloudflare.com/ajax/libs/mathjax/2.7.5/MathJax.js?config=TeX-AMS-MML_SVG\"></script><script type=\"text/javascript\">if (window.MathJax) {MathJax.Hub.Config({SVG: {font: \"STIX-Web\"}});}</script>                <script type=\"text/javascript\">window.PlotlyConfig = {MathJaxConfig: 'local'};</script>\n",
              "        <script src=\"https://cdn.plot.ly/plotly-2.8.3.min.js\"></script>                <div id=\"d2341d7d-2963-4a3f-a35b-d2b0a00b79ea\" class=\"plotly-graph-div\" style=\"height:525px; width:100%;\"></div>            <script type=\"text/javascript\">                                    window.PLOTLYENV=window.PLOTLYENV || {};                                    if (document.getElementById(\"d2341d7d-2963-4a3f-a35b-d2b0a00b79ea\")) {                    Plotly.newPlot(                        \"d2341d7d-2963-4a3f-a35b-d2b0a00b79ea\",                        [{\"mode\":\"lines\",\"name\":\"close\",\"x\":[0,1,2,3,4,5,6,7,8,9,10,11,12,13,14,15,16,17,18,19,20,21,22,23,24,25,26,27,28,29,30,31,32,33,34,35,36,37,38,39,40,41,42,43,44,45,46,47,48,49,50,51,52,53,54,55,56,57,58,59,60,61,62,63,64,65,66,67,68,69,70,71,72,73,74,75,76,77,78,79,80,81,82,83,84,85,86,87,88,89,90,91,92,93,94,95,96,97,98,99,100,101,102,103,104,105,106,107,108,109,110,111,112,113,114,115,116,117,118,119,120,121,122,123,124,125,126,127,128,129,130,131,132,133,134,135,136,137,138,139,140,141,142,143,144,145,146,147,148,149,150,151,152,153,154,155,156,157,158,159,160,161,162,163,164,165,166,167,168,169,170,171,172,173,174,175,176,177,178,179,180,181,182,183,184,185,186,187,188,189,190,191,192,193,194,195,196,197,198,199,200,201,202,203,204,205,206,207,208,209,210,211,212,213,214,215,216,217,218,219,220,221,222,223,224,225,226,227,228,229,230,231,232,233,234,235,236,237,238,239,240,241,242,243,244,245,246,247,248,249,250,251,252,253,254,255,256,257,258,259,260,261,262,263,264,265,266,267,268,269,270,271,272,273,274,275,276,277,278,279,280,281,282,283,284,285,286,287,288,289,290,291,292,293,294,295,296,297,298,299,300,301,302,303,304,305,306,307,308,309,310,311,312,313,314,315,316,317,318,319,320,321,322,323,324,325,326,327,328,329,330,331,332,333,334,335,336,337,338,339,340,341,342,343,344,345,346,347,348,349,350,351,352,353,354,355,356,357,358,359,360,361,362,363,364,365,366,367,368,369,370,371,372,373,374,375,376,377,378,379,380,381,382,383,384,385,386,387,388,389,390,391,392,393,394,395,396,397,398,399,400,401,402,403,404,405,406,407,408,409,410,411,412,413,414,415],\"y\":[1514.3,1514.8,1514.1,1516.6,1514.2,1512.9,1518.9,1514.9,1516.7,1513.5,1514.6,1516.1,1510.6,1511.5,1512.3,1514.1,1512.9,1512.0,1513.4,1513.3,1512.6,1505.8,1505.7,1505.1,1503.7,1498.0,1500.8,1503.5,1495.7,1497.3,1503.2,1504.9,1507.1,1505.6,1503.4,1506.1,1504.0,1502.8,1501.3,1499.5,1498.8,1499.9,1500.3,1495.7,1498.2,1493.8,1494.2,1493.7,1492.8,1491.9,1490.5,1489.6,1476.1,1476.5,1471.4,1478.6,1480.2,1478.9,1479.5,1478.4,1476.4,1472.9,1473.3,1471.6,1470.2,1469.3,1465.8,1466.7,1473.1,1474.8,1474.3,1470.3,1470.2,1487.0,1489.7,1489.5,1488.9,1485.8,1486.5,1485.9,1486.3,1487.5,1484.8,1483.3,1483.7,1482.1,1483.9,1482.1,1488.2,1487.3,1490.1,1488.9,1491.3,1494.9,1503.1,1502.8,1507.4,1507.0,1510.6,1506.4,1504.7,1505.7,1505.6,1507.8,1506.8,1506.4,1504.0,1505.3,1504.9,1507.9,1503.7,1505.9,1507.6,1507.7,1511.0,1506.6,1507.1,1514.9,1516.8,1512.9,1512.7,1514.4,1512.6,1512.3,1512.9,1514.1,1514.6,1514.5,1515.1,1514.1,1513.8,1513.6,1514.8,1514.4,1515.3,1515.7,1515.3,1511.0,1507.2,1511.7,1510.8,1512.0,1513.5,1511.7,1510.5,1513.4,1513.7,1513.5,1514.2,1512.6,1512.2,1511.5,1511.1,1511.6,1507.9,1506.9,1508.2,1506.6,1503.9,1504.4,1505.1,1509.0,1504.8,1503.9,1495.5,1496.7,1497.3,1499.2,1497.9,1495.0,1498.7,1496.6,1496.5,1496.5,1496.8,1495.5,1498.7,1503.6,1505.3,1508.3,1510.1,1510.3,1513.7,1510.7,1508.7,1507.0,1504.9,1507.9,1511.3,1512.4,1513.5,1511.6,1512.4,1510.7,1511.3,1511.8,1511.3,1513.0,1513.4,1512.8,1508.1,1508.0,1506.8,1512.2,1512.7,1512.5,1512.4,1511.5,1512.5,1513.4,1513.0,1519.5,1518.9,1517.2,1511.3,1514.1,1514.4,1513.5,1511.7,1510.0,1515.3,1512.7,1513.4,1511.4,1512.8,1507.5,1502.2,1499.3,1499.4,1501.5,1502.5,1500.2,1498.8,1497.2,1498.8,1499.5,1501.3,1500.3,1499.9,1499.6,1499.4,1504.7,1506.6,1503.3,1502.8,1498.3,1489.5,1489.2,1490.0,1480.2,1483.7,1488.6,1488.0,1488.5,1483.8,1488.1,1488.0,1490.0,1491.8,1491.1,1491.1,1491.3,1490.6,1491.7,1492.8,1493.6,1497.8,1499.6,1500.1,1496.4,1497.7,1495.3,1496.3,1495.9,1497.6,1497.1,1495.8,1496.3,1495.9,1496.6,1497.0,1498.6,1498.9,1498.3,1496.7,1493.2,1495.9,1496.5,1498.9,1501.4,1498.3,1496.9,1491.3,1483.5,1486.1,1484.4,1483.6,1485.1,1484.7,1484.6,1484.3,1488.1,1486.7,1486.3,1486.6,1487.4,1487.1,1484.0,1487.8,1487.8,1486.0,1486.4,1484.2,1490.4,1489.1,1486.7,1490.8,1493.7,1493.3,1492.1,1494.4,1493.8,1494.4,1493.7,1491.9,1492.2,1492.1,1491.9,1492.0,1495.1,1494.6,1491.3,1489.3,1490.1,1492.5,1494.3,1496.6,1495.5,1497.5,1499.3,1498.9,1497.6,1495.8,1496.5,1496.9,1495.4,1495.6,1495.7,1496.2,1495.3,1495.4,1493.6,1492.2,1491.8,1491.5,1492.2,1492.0,1494.1,1495.7,1495.0,1495.8,1495.1,1494.6,1494.6,1494.5,1494.8,1494.7,1494.4,1493.8,1493.6,1493.5,1493.1,1495.0,1495.0,1494.0,1491.9,1494.4,1494.8,1494.6,1494.9,1494.5,1493.8,1488.2,1489.2,1487.7,1486.5,1486.4,1487.0,1486.9,1485.7,1486.8,1487.0,1486.9,1487.3,1488.7,1488.3,1491.6,1491.9,1491.3,1490.7,1489.4,1488.1,1491.6,1488.7,1487.2,1486.5,1488.0,1489.4,1490.2,1491.2,1492.1,1492.9,1491.7,1491.5,1492.2,1492.6],\"type\":\"scatter\"},{\"fill\":\"tonexty\",\"fillcolor\":\"salmon\",\"mode\":\"lines\",\"name\":\"sell probability\",\"x\":[0,1,2,3,4,5,6,7,8,9,10,11,12,13,14,15,16,17,18,19,20,21,22,23,24,25,26,27,28,29,30,31,32,33,34,35,36,37,38,39,40,41,42,43,44,45,46,47,48,49,50,51,52,53,54,55,56,57,58,59,60,61,62,63,64,65,66,67,68,69,70,71,72,73,74,75,76,77,78,79,80,81,82,83,84,85,86,87,88,89,90,91,92,93,94,95,96,97,98,99,100,101,102,103,104,105,106,107,108,109,110,111,112,113,114,115,116,117,118,119,120,121,122,123,124,125,126,127,128,129,130,131,132,133,134,135,136,137,138,139,140,141,142,143,144,145,146,147,148,149,150,151,152,153,154,155,156,157,158,159,160,161,162,163,164,165,166,167,168,169,170,171,172,173,174,175,176,177,178,179,180,181,182,183,184,185,186,187,188,189,190,191,192,193,194,195,196,197,198,199,200,201,202,203,204,205,206,207,208,209,210,211,212,213,214,215,216,217,218,219,220,221,222,223,224,225,226,227,228,229,230,231,232,233,234,235,236,237,238,239,240,241,242,243,244,245,246,247,248,249,250,251,252,253,254,255,256,257,258,259,260,261,262,263,264,265,266,267,268,269,270,271,272,273,274,275,276,277,278,279,280,281,282,283,284,285,286,287,288,289,290,291,292,293,294,295,296,297,298,299,300,301,302,303,304,305,306,307,308,309,310,311,312,313,314,315,316,317,318,319,320,321,322,323,324,325,326,327,328,329,330,331,332,333,334,335,336,337,338,339,340,341,342,343,344,345,346,347,348,349,350,351,352,353,354,355,356,357,358,359,360,361,362,363,364,365,366,367,368,369,370,371,372,373,374,375,376,377,378,379,380,381,382,383,384,385,386,387,388,389,390,391,392,393,394,395,396,397,398,399,400,401,402,403,404,405,406,407,408,409,410,411,412,413,414,415],\"y\":[1514.792794225884,1515.5353527381021,1514.845691944374,1516.8193074781013,1514.7835429347058,1513.5510587658423,1519.1996230405994,1515.1481527059095,1517.1294144340106,1514.0496946131511,1515.1759964054706,1516.4473405694514,1511.2609119033852,1512.2718712421963,1513.0343547558962,1514.8080565769153,1513.4125145861924,1512.666637287795,1513.7905778289096,1513.7316253117142,1513.3091514578352,1506.4253466831954,1506.1870327293386,1505.6673540174695,1504.3107159512883,1498.623726041018,1501.372814953907,1504.0476632997206,1496.412013170096,1497.9757639139168,1504.0186053009074,1505.3064361530728,1507.605778247431,1505.9071068531728,1503.846716055838,1506.4192222779927,1504.204755845409,1503.6357143938828,1501.8309082078479,1500.0705372328996,1499.3503693880627,1500.5397317460602,1501.044888806936,1496.3598560490286,1498.8083013067567,1494.516616911232,1494.7948221907095,1494.3295664301431,1493.403752459503,1492.6974069348466,1491.0914206458913,1490.3625260680433,1476.7134293734966,1476.959421687153,1472.118633998227,1479.2828919738045,1480.8184970359239,1479.619115508863,1480.116127863153,1479.0290902202119,1477.025848871609,1473.5488746342558,1473.9647068195986,1472.2088630618057,1470.9749666782263,1469.889758599208,1466.524043419067,1467.3921243403402,1473.6478894964036,1475.1734836670335,1474.6465629670922,1470.9355433663807,1470.7684199820717,1487.5043659625655,1490.0814114499644,1489.7215540883935,1489.250042079345,1486.2370241210278,1486.7010413021294,1486.2766676211975,1486.4525449655382,1487.707378181112,1485.3135742468326,1483.982114539711,1484.1983634771213,1482.8165639373065,1484.5045287872208,1482.653067363475,1488.5633957283699,1487.6342000295792,1490.49849079207,1489.259920404109,1491.5512417927844,1495.0996411044132,1503.4847979476906,1503.24520339711,1507.6088833194506,1507.2516501729422,1510.9552961265238,1506.7682551170062,1504.9017214506096,1505.9906237758598,1505.8847700180863,1508.0129656670395,1507.2096850625294,1507.077875646494,1504.6357318767484,1505.8174068711016,1505.45794193942,1508.4444512982186,1504.1123864886486,1506.6274671666717,1507.8451222342212,1508.1924418647113,1511.2425767332631,1507.113966586092,1507.6254976331938,1515.5495538283444,1517.1543018834493,1513.4384698040367,1513.1730967321053,1514.9091430324647,1513.0325418513346,1512.8703137068592,1513.2782434228286,1514.469760847853,1515.0751712196884,1515.025069686285,1515.5508623387636,1514.6013306397151,1514.4760125261064,1514.116933593507,1515.032550338065,1514.7557703441475,1515.6647696641937,1515.9531603715686,1515.5637286586625,1511.6267332784475,1507.6564544181335,1512.1228281677431,1511.3307307757755,1512.4999249182129,1513.8336326262672,1512.1010168841428,1510.9767608130053,1513.9340576518573,1514.2822008998396,1513.7723297275438,1514.5822850670238,1513.0822839166035,1512.887894122952,1512.2073876541913,1511.8506663967146,1512.2149545435802,1508.5375425145658,1507.618185900313,1508.884859781689,1507.3994655343254,1504.6607115545396,1505.0379198744163,1505.5991250928757,1509.4647569193262,1505.3761485351667,1504.3722639441787,1496.2048595923973,1497.3812108772413,1498.0236462363305,1499.9758711355282,1498.2836842215527,1495.819720951989,1499.264437675371,1496.929926171576,1496.9452796596308,1497.0359235755668,1497.2657105654953,1496.0609904135724,1499.095879325323,1504.0923245969043,1505.6749632604324,1508.6874927002932,1510.4381587307382,1510.5621298287735,1513.972732524603,1510.9850891554688,1508.8557629001502,1507.4190045496434,1505.325759879667,1508.1513520711385,1511.574248262833,1512.7169559547347,1514.0141720051874,1511.7122421669794,1513.0784856786195,1511.0564491494922,1511.9400830071918,1512.119451923244,1511.6688243952422,1513.2089532852183,1513.8279842848922,1513.2979981086216,1508.9145811412045,1508.6159236964497,1507.3932932907624,1512.8307701006318,1513.1756503552258,1512.9924913306602,1512.757916972853,1511.9950168157297,1513.02765374699,1513.7786717738834,1513.431694449221,1519.8150158146993,1519.34272360125,1517.3573363655305,1511.9608586816826,1514.8719531069717,1514.9703987462553,1514.2692209805348,1512.517048049261,1510.6740971324434,1515.7024991986489,1513.3313448381953,1513.9072201893632,1512.16459416575,1513.5638910668363,1508.2093359846078,1502.7953341437853,1499.8141732561462,1499.9956102387353,1502.1289054120637,1503.0447828266717,1501.0370049478759,1499.3388859786337,1497.8449663624267,1499.5566931020844,1500.3177325112501,1501.867275925934,1500.5310689183796,1500.4118232340265,1499.989528959788,1499.8044708482057,1505.179325877646,1507.0723633790856,1503.6144093260789,1503.1656203100165,1498.9270112448398,1490.1149669815445,1489.7590722543403,1490.65214140219,1480.6237766081597,1484.4417035469473,1489.3754636820788,1488.6914182704334,1489.1609390439748,1484.5463066026982,1488.7383316844125,1488.8221249244439,1490.3690061104446,1492.2945937572326,1491.3488726934124,1491.6636007140878,1491.5775935929132,1491.131482144858,1492.1315437989463,1493.3054631289244,1493.9296740553254,1498.0340723711834,1500.0312675722187,1500.4255388440358,1496.865451188243,1498.1599812841123,1495.5337429935391,1496.9435055297056,1496.4243697778566,1498.196590574846,1497.4540781011701,1496.333444999211,1496.716286218152,1496.4690729564977,1497.092193831708,1497.473093110174,1499.1808266412957,1499.2486500924094,1498.640880072774,1497.4543084701188,1493.8226869617017,1496.4582560770089,1496.9064394977734,1499.3822258655855,1501.5563375698086,1498.599186963704,1497.1743119632058,1491.96395566108,1484.076203588267,1486.6371894203407,1485.064121011295,1484.2944404638963,1485.714079722471,1485.2506358073294,1485.3801105690798,1484.95882773754,1488.9330728543114,1487.006703319312,1487.0672785322884,1487.0113889008207,1487.7391451858844,1487.3801573299777,1484.7018213704437,1488.2180493826909,1488.0828471536843,1486.347135955902,1486.898659711233,1484.8456523745,1490.8677963460887,1489.6135339666102,1487.1768625529955,1491.2046141370797,1494.0779677492505,1493.6191152398724,1492.313332975492,1494.745300298998,1494.0595828975104,1494.8979787311437,1493.8004212240473,1492.306459031507,1492.8524232332736,1492.5875943723047,1492.4102777899882,1492.6364675876973,1495.666959511205,1494.8517214471237,1491.8453898030193,1490.0368392251794,1490.8689301947577,1492.9747708650686,1494.5444486317165,1496.7686402612403,1495.8937437153743,1497.7213729896332,1499.7811683941857,1499.2429880369673,1498.1691974110997,1495.9759254914516,1496.8853059566584,1497.220108866436,1495.682874284609,1495.945697159895,1496.1913702111433,1496.677189697335,1495.8721704671127,1495.9807467990822,1494.1598209204394,1492.8015304530095,1492.552486923473,1492.1928519525181,1492.8654277458893,1492.4979220837374,1494.5952610440906,1496.030435961272,1495.29171845382,1496.074854216148,1495.5175544079852,1495.094692099234,1495.004868606884,1494.8790311643859,1495.131132101021,1495.1589435157646,1494.7071760627523,1494.4924821714299,1494.2711549627218,1494.088285464395,1493.7227849088938,1495.2604106054162,1495.297255326574,1494.5530990686286,1492.6001234038697,1495.0113971957105,1495.207745664847,1494.9405918845198,1495.1346246298492,1494.9037450820656,1494.356383237456,1488.6267434530992,1489.9037085180828,1488.4873857324003,1487.2768204088661,1487.1821275067925,1487.7881278725197,1487.5974393932586,1486.4987859226708,1487.298859893976,1487.5149203954575,1487.2129913212973,1487.6929201465512,1488.8675819513203,1488.620480747623,1491.8184033517364,1492.1828316376582,1491.6826194419982,1491.0485081602142,1489.672020282203,1488.8800780315412,1491.8885412945272,1489.07613705065,1487.7461153808572,1487.1501659738283,1488.648527383391,1489.9999004907543,1490.603288267684,1491.4050891735367,1492.274095437115,1493.025509694829,1492.5181922554723,1492.0911919503217,1492.8863960129786,1493.0126676568264],\"type\":\"scatter\"},{\"fill\":\"tonexty\",\"line\":{\"width\":0},\"marker\":{\"color\":\"#444\"},\"mode\":\"lines\",\"name\":\"buy probability\",\"x\":[0,1,2,3,4,5,6,7,8,9,10,11,12,13,14,15,16,17,18,19,20,21,22,23,24,25,26,27,28,29,30,31,32,33,34,35,36,37,38,39,40,41,42,43,44,45,46,47,48,49,50,51,52,53,54,55,56,57,58,59,60,61,62,63,64,65,66,67,68,69,70,71,72,73,74,75,76,77,78,79,80,81,82,83,84,85,86,87,88,89,90,91,92,93,94,95,96,97,98,99,100,101,102,103,104,105,106,107,108,109,110,111,112,113,114,115,116,117,118,119,120,121,122,123,124,125,126,127,128,129,130,131,132,133,134,135,136,137,138,139,140,141,142,143,144,145,146,147,148,149,150,151,152,153,154,155,156,157,158,159,160,161,162,163,164,165,166,167,168,169,170,171,172,173,174,175,176,177,178,179,180,181,182,183,184,185,186,187,188,189,190,191,192,193,194,195,196,197,198,199,200,201,202,203,204,205,206,207,208,209,210,211,212,213,214,215,216,217,218,219,220,221,222,223,224,225,226,227,228,229,230,231,232,233,234,235,236,237,238,239,240,241,242,243,244,245,246,247,248,249,250,251,252,253,254,255,256,257,258,259,260,261,262,263,264,265,266,267,268,269,270,271,272,273,274,275,276,277,278,279,280,281,282,283,284,285,286,287,288,289,290,291,292,293,294,295,296,297,298,299,300,301,302,303,304,305,306,307,308,309,310,311,312,313,314,315,316,317,318,319,320,321,322,323,324,325,326,327,328,329,330,331,332,333,334,335,336,337,338,339,340,341,342,343,344,345,346,347,348,349,350,351,352,353,354,355,356,357,358,359,360,361,362,363,364,365,366,367,368,369,370,371,372,373,374,375,376,377,378,379,380,381,382,383,384,385,386,387,388,389,390,391,392,393,394,395,396,397,398,399,400,401,402,403,404,405,406,407,408,409,410,411,412,413,414,415],\"y\":[1513.792794225884,1514.5353527381021,1513.845691944374,1515.819307478101,1513.7835429347058,1512.5510587658423,1518.1996230405994,1514.1481527059095,1516.1294144340106,1513.0496946131511,1514.1759964054706,1515.4473405694514,1510.2609119033852,1511.2718712421963,1512.034354755896,1513.8080565769153,1512.4125145861924,1511.666637287795,1512.7905778289094,1512.7316253117142,1512.3091514578355,1505.4253466831951,1505.1870327293386,1504.6673540174695,1503.3107159512886,1497.623726041018,1500.3728149539068,1503.0476632997206,1495.412013170096,1496.9757639139168,1503.0186053009074,1504.3064361530728,1506.605778247431,1504.9071068531728,1502.846716055838,1505.4192222779927,1503.204755845409,1502.6357143938828,1500.8309082078479,1499.0705372328994,1498.350369388063,1499.5397317460602,1500.0448888069357,1495.3598560490286,1497.8083013067567,1493.5166169112317,1493.7948221907095,1493.3295664301431,1492.403752459503,1491.6974069348469,1490.0914206458913,1489.362526068043,1475.7134293734966,1475.959421687153,1471.118633998227,1478.2828919738045,1479.8184970359239,1478.619115508863,1479.116127863153,1478.029090220212,1476.025848871609,1472.5488746342558,1472.9647068195986,1471.2088630618057,1469.9749666782263,1468.889758599208,1465.524043419067,1466.3921243403402,1472.6478894964036,1474.1734836670335,1473.646562967092,1469.9355433663807,1469.7684199820717,1486.5043659625655,1489.0814114499644,1488.7215540883935,1488.250042079345,1485.2370241210278,1485.7010413021292,1485.2766676211975,1485.4525449655382,1486.707378181112,1484.3135742468326,1482.982114539711,1483.1983634771213,1481.8165639373065,1483.5045287872208,1481.653067363475,1487.5633957283699,1486.6342000295792,1489.49849079207,1488.259920404109,1490.5512417927844,1494.099641104413,1502.4847979476906,1502.24520339711,1506.6088833194506,1506.2516501729422,1509.9552961265238,1505.7682551170062,1503.9017214506096,1504.9906237758598,1504.8847700180863,1507.0129656670395,1506.2096850625294,1506.0778756464942,1503.6357318767482,1504.8174068711016,1504.45794193942,1507.4444512982188,1503.1123864886486,1505.6274671666717,1506.8451222342212,1507.1924418647113,1510.2425767332631,1506.113966586092,1506.6254976331938,1514.5495538283446,1516.1543018834493,1512.4384698040367,1512.1730967321053,1513.9091430324647,1512.0325418513346,1511.870313706859,1512.2782434228286,1513.469760847853,1514.0751712196884,1514.025069686285,1514.5508623387636,1513.6013306397151,1513.4760125261064,1513.116933593507,1514.032550338065,1513.7557703441475,1514.6647696641937,1514.9531603715686,1514.5637286586625,1510.6267332784475,1506.6564544181335,1511.122828167743,1510.3307307757755,1511.4999249182129,1512.8336326262672,1511.1010168841428,1509.9767608130053,1512.9340576518573,1513.2822008998396,1512.7723297275438,1513.5822850670238,1512.0822839166035,1511.887894122952,1511.2073876541913,1510.8506663967146,1511.2149545435802,1507.5375425145658,1506.618185900313,1507.884859781689,1506.3994655343254,1503.6607115545396,1504.0379198744163,1504.5991250928757,1508.4647569193262,1504.3761485351667,1503.3722639441787,1495.2048595923975,1496.3812108772413,1497.0236462363305,1498.9758711355282,1497.2836842215527,1494.819720951989,1498.264437675371,1495.929926171576,1495.9452796596308,1496.0359235755668,1496.265710565495,1495.0609904135724,1498.095879325323,1503.0923245969043,1504.6749632604324,1507.6874927002932,1509.4381587307382,1509.5621298287735,1512.972732524603,1509.9850891554688,1507.8557629001502,1506.4190045496434,1504.325759879667,1507.1513520711385,1510.574248262833,1511.7169559547347,1513.0141720051874,1510.7122421669794,1512.0784856786195,1510.0564491494922,1510.9400830071918,1511.119451923244,1510.6688243952422,1512.2089532852183,1512.8279842848922,1512.2979981086216,1507.9145811412045,1507.6159236964497,1506.3932932907624,1511.8307701006318,1512.1756503552258,1511.9924913306602,1511.757916972853,1510.9950168157297,1512.02765374699,1512.7786717738834,1512.431694449221,1518.8150158146993,1518.34272360125,1516.3573363655305,1510.9608586816826,1513.8719531069717,1513.9703987462553,1513.2692209805348,1511.5170480492607,1509.6740971324434,1514.7024991986489,1512.3313448381953,1512.9072201893632,1511.1645941657503,1512.5638910668363,1507.2093359846078,1501.7953341437853,1498.8141732561462,1498.9956102387353,1501.1289054120637,1502.0447828266717,1500.0370049478759,1498.3388859786335,1496.8449663624267,1498.5566931020844,1499.3177325112501,1500.867275925934,1499.5310689183796,1499.4118232340265,1498.989528959788,1498.8044708482057,1504.179325877646,1506.0723633790856,1502.6144093260789,1502.1656203100165,1497.9270112448398,1489.1149669815445,1488.7590722543403,1489.65214140219,1479.6237766081597,1483.4417035469473,1488.3754636820788,1487.6914182704334,1488.1609390439748,1483.5463066026982,1487.7383316844125,1487.8221249244439,1489.3690061104446,1491.2945937572326,1490.3488726934124,1490.6636007140878,1490.5775935929132,1490.131482144858,1491.1315437989463,1492.3054631289244,1492.9296740553254,1497.0340723711834,1499.0312675722187,1499.4255388440358,1495.865451188243,1497.1599812841123,1494.5337429935391,1495.9435055297056,1495.4243697778566,1497.196590574846,1496.4540781011701,1495.333444999211,1495.716286218152,1495.4690729564977,1496.092193831708,1496.473093110174,1498.1808266412957,1498.2486500924094,1497.640880072774,1496.4543084701188,1492.8226869617017,1495.4582560770089,1495.9064394977734,1498.3822258655855,1500.5563375698086,1497.5991869637041,1496.1743119632058,1490.96395566108,1483.076203588267,1485.6371894203407,1484.064121011295,1483.2944404638963,1484.714079722471,1484.2506358073294,1484.3801105690798,1483.95882773754,1487.9330728543114,1486.006703319312,1486.0672785322884,1486.0113889008207,1486.7391451858844,1486.3801573299775,1483.7018213704437,1487.2180493826909,1487.0828471536843,1485.347135955902,1485.898659711233,1483.8456523745,1489.8677963460887,1488.6135339666102,1486.1768625529955,1490.2046141370797,1493.0779677492505,1492.6191152398724,1491.313332975492,1493.745300298998,1493.0595828975104,1493.8979787311437,1492.8004212240473,1491.306459031507,1491.8524232332736,1491.5875943723047,1491.410277789988,1491.6364675876973,1494.666959511205,1493.8517214471237,1490.8453898030193,1489.0368392251794,1489.8689301947577,1491.9747708650686,1493.5444486317165,1495.7686402612403,1494.8937437153743,1496.7213729896332,1498.7811683941857,1498.2429880369673,1497.1691974110997,1494.9759254914516,1495.8853059566586,1496.220108866436,1494.682874284609,1494.945697159895,1495.1913702111433,1495.677189697335,1494.8721704671127,1494.9807467990822,1493.1598209204394,1491.8015304530095,1491.552486923473,1491.1928519525181,1491.8654277458893,1491.4979220837374,1493.5952610440906,1495.030435961272,1494.29171845382,1495.074854216148,1494.5175544079852,1494.0946920992342,1494.004868606884,1493.8790311643859,1494.1311321010212,1494.1589435157646,1493.7071760627523,1493.4924821714299,1493.2711549627218,1493.088285464395,1492.7227849088938,1494.2604106054162,1494.297255326574,1493.5530990686286,1491.6001234038697,1494.0113971957105,1494.207745664847,1493.9405918845198,1494.1346246298492,1493.9037450820656,1493.356383237456,1487.6267434530992,1488.9037085180828,1487.4873857324003,1486.2768204088661,1486.1821275067925,1486.7881278725197,1486.5974393932586,1485.4987859226708,1486.298859893976,1486.5149203954575,1486.212991321297,1486.6929201465512,1487.8675819513203,1487.620480747623,1490.8184033517364,1491.1828316376582,1490.6826194419982,1490.0485081602142,1488.672020282203,1487.8800780315412,1490.8885412945274,1488.07613705065,1486.7461153808572,1486.1501659738283,1487.6485273833907,1488.9999004907543,1489.603288267684,1490.4050891735367,1491.274095437115,1492.025509694829,1491.5181922554723,1491.0911919503217,1491.8863960129786,1492.0126676568264],\"type\":\"scatter\"},{\"marker\":{\"color\":\"green\"},\"name\":\"buy\",\"opacity\":0.3,\"x\":[3,4,6,7,8,9,10,11,18,19,33,34,35,36,69,70,74,75,76,77,78,79,80,81,82,88,89,90,91,92,93,94,95,96,97,98,99,100,101,102,103,104,112,113,114,115,116,118,119,120,121,122,123,124,125,126,127,128,129,132,133,134,135,136,142,143,144,145,146,147,148,149,168,171,172,173,174,175,176,177,178,179,180,181,182,183,184,185,186,187,188,189,190,191,193,195,196,197,198,199,206,207,208,209,210,211,212,213,237,238,239,240,241,242,243,244,257,258,259,260,261,262,263,264,265,266,267,268,269,270,271,275,276,277,278,279,280,281,282,283,289,290,291,302,305,306,309,310,311,317,318,319,320,321,322,323,324,330,331,335,336,337,338,339,340,341,342,343,344,345,346,347,348,349,350,351,358,359,360,361,362,363,364,365,366,367,372,373,374,378,379,380,381,382,392,393,394,395,396,397,398,399,400,402,403,404,409,410,411],\"y\":[1519.5,1519.5,1519.5,1519.5,1519.5,1519.5,1519.5,1519.5,1519.5,1519.5,1519.5,1519.5,1519.5,1519.5,1519.5,1519.5,1519.5,1519.5,1519.5,1519.5,1519.5,1519.5,1519.5,1519.5,1519.5,1519.5,1519.5,1519.5,1519.5,1519.5,1519.5,1519.5,1519.5,1519.5,1519.5,1519.5,1519.5,1519.5,1519.5,1519.5,1519.5,1519.5,1519.5,1519.5,1519.5,1519.5,1519.5,1519.5,1519.5,1519.5,1519.5,1519.5,1519.5,1519.5,1519.5,1519.5,1519.5,1519.5,1519.5,1519.5,1519.5,1519.5,1519.5,1519.5,1519.5,1519.5,1519.5,1519.5,1519.5,1519.5,1519.5,1519.5,1519.5,1519.5,1519.5,1519.5,1519.5,1519.5,1519.5,1519.5,1519.5,1519.5,1519.5,1519.5,1519.5,1519.5,1519.5,1519.5,1519.5,1519.5,1519.5,1519.5,1519.5,1519.5,1519.5,1519.5,1519.5,1519.5,1519.5,1519.5,1519.5,1519.5,1519.5,1519.5,1519.5,1519.5,1519.5,1519.5,1519.5,1519.5,1519.5,1519.5,1519.5,1519.5,1519.5,1519.5,1519.5,1519.5,1519.5,1519.5,1519.5,1519.5,1519.5,1519.5,1519.5,1519.5,1519.5,1519.5,1519.5,1519.5,1519.5,1519.5,1519.5,1519.5,1519.5,1519.5,1519.5,1519.5,1519.5,1519.5,1519.5,1519.5,1519.5,1519.5,1519.5,1519.5,1519.5,1519.5,1519.5,1519.5,1519.5,1519.5,1519.5,1519.5,1519.5,1519.5,1519.5,1519.5,1519.5,1519.5,1519.5,1519.5,1519.5,1519.5,1519.5,1519.5,1519.5,1519.5,1519.5,1519.5,1519.5,1519.5,1519.5,1519.5,1519.5,1519.5,1519.5,1519.5,1519.5,1519.5,1519.5,1519.5,1519.5,1519.5,1519.5,1519.5,1519.5,1519.5,1519.5,1519.5,1519.5,1519.5,1519.5,1519.5,1519.5,1519.5,1519.5,1519.5,1519.5,1519.5,1519.5,1519.5,1519.5,1519.5,1519.5,1519.5,1519.5,1519.5,1519.5],\"type\":\"bar\"},{\"marker\":{\"color\":\"red\"},\"name\":\"sell\",\"opacity\":0.3,\"x\":[1,2,5,12,13,14,15,16,17,20,21,22,23,24,25,26,27,28,29,30,31,32,37,38,39,40,41,42,43,44,45,46,47,48,49,50,51,52,53,54,55,56,57,58,59,60,61,62,63,64,65,66,67,68,71,72,73,83,84,85,86,87,105,106,107,108,109,110,111,117,130,131,137,138,139,140,141,150,151,152,153,154,155,156,157,158,159,160,161,162,163,164,165,166,167,169,170,192,194,200,201,202,203,204,205,214,215,216,217,218,219,220,221,222,223,224,225,226,227,228,229,230,231,232,233,234,235,236,245,246,247,248,249,250,251,252,253,254,255,256,272,273,274,284,285,286,287,288,292,293,294,295,296,297,298,299,300,301,303,304,307,308,312,313,314,315,316,325,326,327,328,329,332,333,334,352,353,354,355,356,357,368,369,370,371,375,376,377,383,384,385,386,387,388,389,390,391,401,405,406,407,408,412,413,414,415],\"y\":[1519.5,1519.5,1519.5,1519.5,1519.5,1519.5,1519.5,1519.5,1519.5,1519.5,1519.5,1519.5,1519.5,1519.5,1519.5,1519.5,1519.5,1519.5,1519.5,1519.5,1519.5,1519.5,1519.5,1519.5,1519.5,1519.5,1519.5,1519.5,1519.5,1519.5,1519.5,1519.5,1519.5,1519.5,1519.5,1519.5,1519.5,1519.5,1519.5,1519.5,1519.5,1519.5,1519.5,1519.5,1519.5,1519.5,1519.5,1519.5,1519.5,1519.5,1519.5,1519.5,1519.5,1519.5,1519.5,1519.5,1519.5,1519.5,1519.5,1519.5,1519.5,1519.5,1519.5,1519.5,1519.5,1519.5,1519.5,1519.5,1519.5,1519.5,1519.5,1519.5,1519.5,1519.5,1519.5,1519.5,1519.5,1519.5,1519.5,1519.5,1519.5,1519.5,1519.5,1519.5,1519.5,1519.5,1519.5,1519.5,1519.5,1519.5,1519.5,1519.5,1519.5,1519.5,1519.5,1519.5,1519.5,1519.5,1519.5,1519.5,1519.5,1519.5,1519.5,1519.5,1519.5,1519.5,1519.5,1519.5,1519.5,1519.5,1519.5,1519.5,1519.5,1519.5,1519.5,1519.5,1519.5,1519.5,1519.5,1519.5,1519.5,1519.5,1519.5,1519.5,1519.5,1519.5,1519.5,1519.5,1519.5,1519.5,1519.5,1519.5,1519.5,1519.5,1519.5,1519.5,1519.5,1519.5,1519.5,1519.5,1519.5,1519.5,1519.5,1519.5,1519.5,1519.5,1519.5,1519.5,1519.5,1519.5,1519.5,1519.5,1519.5,1519.5,1519.5,1519.5,1519.5,1519.5,1519.5,1519.5,1519.5,1519.5,1519.5,1519.5,1519.5,1519.5,1519.5,1519.5,1519.5,1519.5,1519.5,1519.5,1519.5,1519.5,1519.5,1519.5,1519.5,1519.5,1519.5,1519.5,1519.5,1519.5,1519.5,1519.5,1519.5,1519.5,1519.5,1519.5,1519.5,1519.5,1519.5,1519.5,1519.5,1519.5,1519.5,1519.5,1519.5,1519.5,1519.5,1519.5,1519.5,1519.5,1519.5,1519.5,1519.5,1519.5],\"type\":\"bar\"}],                        {\"template\":{\"data\":{\"bar\":[{\"error_x\":{\"color\":\"#2a3f5f\"},\"error_y\":{\"color\":\"#2a3f5f\"},\"marker\":{\"line\":{\"color\":\"#E5ECF6\",\"width\":0.5},\"pattern\":{\"fillmode\":\"overlay\",\"size\":10,\"solidity\":0.2}},\"type\":\"bar\"}],\"barpolar\":[{\"marker\":{\"line\":{\"color\":\"#E5ECF6\",\"width\":0.5},\"pattern\":{\"fillmode\":\"overlay\",\"size\":10,\"solidity\":0.2}},\"type\":\"barpolar\"}],\"carpet\":[{\"aaxis\":{\"endlinecolor\":\"#2a3f5f\",\"gridcolor\":\"white\",\"linecolor\":\"white\",\"minorgridcolor\":\"white\",\"startlinecolor\":\"#2a3f5f\"},\"baxis\":{\"endlinecolor\":\"#2a3f5f\",\"gridcolor\":\"white\",\"linecolor\":\"white\",\"minorgridcolor\":\"white\",\"startlinecolor\":\"#2a3f5f\"},\"type\":\"carpet\"}],\"choropleth\":[{\"colorbar\":{\"outlinewidth\":0,\"ticks\":\"\"},\"type\":\"choropleth\"}],\"contour\":[{\"colorbar\":{\"outlinewidth\":0,\"ticks\":\"\"},\"colorscale\":[[0.0,\"#0d0887\"],[0.1111111111111111,\"#46039f\"],[0.2222222222222222,\"#7201a8\"],[0.3333333333333333,\"#9c179e\"],[0.4444444444444444,\"#bd3786\"],[0.5555555555555556,\"#d8576b\"],[0.6666666666666666,\"#ed7953\"],[0.7777777777777778,\"#fb9f3a\"],[0.8888888888888888,\"#fdca26\"],[1.0,\"#f0f921\"]],\"type\":\"contour\"}],\"contourcarpet\":[{\"colorbar\":{\"outlinewidth\":0,\"ticks\":\"\"},\"type\":\"contourcarpet\"}],\"heatmap\":[{\"colorbar\":{\"outlinewidth\":0,\"ticks\":\"\"},\"colorscale\":[[0.0,\"#0d0887\"],[0.1111111111111111,\"#46039f\"],[0.2222222222222222,\"#7201a8\"],[0.3333333333333333,\"#9c179e\"],[0.4444444444444444,\"#bd3786\"],[0.5555555555555556,\"#d8576b\"],[0.6666666666666666,\"#ed7953\"],[0.7777777777777778,\"#fb9f3a\"],[0.8888888888888888,\"#fdca26\"],[1.0,\"#f0f921\"]],\"type\":\"heatmap\"}],\"heatmapgl\":[{\"colorbar\":{\"outlinewidth\":0,\"ticks\":\"\"},\"colorscale\":[[0.0,\"#0d0887\"],[0.1111111111111111,\"#46039f\"],[0.2222222222222222,\"#7201a8\"],[0.3333333333333333,\"#9c179e\"],[0.4444444444444444,\"#bd3786\"],[0.5555555555555556,\"#d8576b\"],[0.6666666666666666,\"#ed7953\"],[0.7777777777777778,\"#fb9f3a\"],[0.8888888888888888,\"#fdca26\"],[1.0,\"#f0f921\"]],\"type\":\"heatmapgl\"}],\"histogram\":[{\"marker\":{\"pattern\":{\"fillmode\":\"overlay\",\"size\":10,\"solidity\":0.2}},\"type\":\"histogram\"}],\"histogram2d\":[{\"colorbar\":{\"outlinewidth\":0,\"ticks\":\"\"},\"colorscale\":[[0.0,\"#0d0887\"],[0.1111111111111111,\"#46039f\"],[0.2222222222222222,\"#7201a8\"],[0.3333333333333333,\"#9c179e\"],[0.4444444444444444,\"#bd3786\"],[0.5555555555555556,\"#d8576b\"],[0.6666666666666666,\"#ed7953\"],[0.7777777777777778,\"#fb9f3a\"],[0.8888888888888888,\"#fdca26\"],[1.0,\"#f0f921\"]],\"type\":\"histogram2d\"}],\"histogram2dcontour\":[{\"colorbar\":{\"outlinewidth\":0,\"ticks\":\"\"},\"colorscale\":[[0.0,\"#0d0887\"],[0.1111111111111111,\"#46039f\"],[0.2222222222222222,\"#7201a8\"],[0.3333333333333333,\"#9c179e\"],[0.4444444444444444,\"#bd3786\"],[0.5555555555555556,\"#d8576b\"],[0.6666666666666666,\"#ed7953\"],[0.7777777777777778,\"#fb9f3a\"],[0.8888888888888888,\"#fdca26\"],[1.0,\"#f0f921\"]],\"type\":\"histogram2dcontour\"}],\"mesh3d\":[{\"colorbar\":{\"outlinewidth\":0,\"ticks\":\"\"},\"type\":\"mesh3d\"}],\"parcoords\":[{\"line\":{\"colorbar\":{\"outlinewidth\":0,\"ticks\":\"\"}},\"type\":\"parcoords\"}],\"pie\":[{\"automargin\":true,\"type\":\"pie\"}],\"scatter\":[{\"marker\":{\"colorbar\":{\"outlinewidth\":0,\"ticks\":\"\"}},\"type\":\"scatter\"}],\"scatter3d\":[{\"line\":{\"colorbar\":{\"outlinewidth\":0,\"ticks\":\"\"}},\"marker\":{\"colorbar\":{\"outlinewidth\":0,\"ticks\":\"\"}},\"type\":\"scatter3d\"}],\"scattercarpet\":[{\"marker\":{\"colorbar\":{\"outlinewidth\":0,\"ticks\":\"\"}},\"type\":\"scattercarpet\"}],\"scattergeo\":[{\"marker\":{\"colorbar\":{\"outlinewidth\":0,\"ticks\":\"\"}},\"type\":\"scattergeo\"}],\"scattergl\":[{\"marker\":{\"colorbar\":{\"outlinewidth\":0,\"ticks\":\"\"}},\"type\":\"scattergl\"}],\"scattermapbox\":[{\"marker\":{\"colorbar\":{\"outlinewidth\":0,\"ticks\":\"\"}},\"type\":\"scattermapbox\"}],\"scatterpolar\":[{\"marker\":{\"colorbar\":{\"outlinewidth\":0,\"ticks\":\"\"}},\"type\":\"scatterpolar\"}],\"scatterpolargl\":[{\"marker\":{\"colorbar\":{\"outlinewidth\":0,\"ticks\":\"\"}},\"type\":\"scatterpolargl\"}],\"scatterternary\":[{\"marker\":{\"colorbar\":{\"outlinewidth\":0,\"ticks\":\"\"}},\"type\":\"scatterternary\"}],\"surface\":[{\"colorbar\":{\"outlinewidth\":0,\"ticks\":\"\"},\"colorscale\":[[0.0,\"#0d0887\"],[0.1111111111111111,\"#46039f\"],[0.2222222222222222,\"#7201a8\"],[0.3333333333333333,\"#9c179e\"],[0.4444444444444444,\"#bd3786\"],[0.5555555555555556,\"#d8576b\"],[0.6666666666666666,\"#ed7953\"],[0.7777777777777778,\"#fb9f3a\"],[0.8888888888888888,\"#fdca26\"],[1.0,\"#f0f921\"]],\"type\":\"surface\"}],\"table\":[{\"cells\":{\"fill\":{\"color\":\"#EBF0F8\"},\"line\":{\"color\":\"white\"}},\"header\":{\"fill\":{\"color\":\"#C8D4E3\"},\"line\":{\"color\":\"white\"}},\"type\":\"table\"}]},\"layout\":{\"annotationdefaults\":{\"arrowcolor\":\"#2a3f5f\",\"arrowhead\":0,\"arrowwidth\":1},\"autotypenumbers\":\"strict\",\"coloraxis\":{\"colorbar\":{\"outlinewidth\":0,\"ticks\":\"\"}},\"colorscale\":{\"diverging\":[[0,\"#8e0152\"],[0.1,\"#c51b7d\"],[0.2,\"#de77ae\"],[0.3,\"#f1b6da\"],[0.4,\"#fde0ef\"],[0.5,\"#f7f7f7\"],[0.6,\"#e6f5d0\"],[0.7,\"#b8e186\"],[0.8,\"#7fbc41\"],[0.9,\"#4d9221\"],[1,\"#276419\"]],\"sequential\":[[0.0,\"#0d0887\"],[0.1111111111111111,\"#46039f\"],[0.2222222222222222,\"#7201a8\"],[0.3333333333333333,\"#9c179e\"],[0.4444444444444444,\"#bd3786\"],[0.5555555555555556,\"#d8576b\"],[0.6666666666666666,\"#ed7953\"],[0.7777777777777778,\"#fb9f3a\"],[0.8888888888888888,\"#fdca26\"],[1.0,\"#f0f921\"]],\"sequentialminus\":[[0.0,\"#0d0887\"],[0.1111111111111111,\"#46039f\"],[0.2222222222222222,\"#7201a8\"],[0.3333333333333333,\"#9c179e\"],[0.4444444444444444,\"#bd3786\"],[0.5555555555555556,\"#d8576b\"],[0.6666666666666666,\"#ed7953\"],[0.7777777777777778,\"#fb9f3a\"],[0.8888888888888888,\"#fdca26\"],[1.0,\"#f0f921\"]]},\"colorway\":[\"#636efa\",\"#EF553B\",\"#00cc96\",\"#ab63fa\",\"#FFA15A\",\"#19d3f3\",\"#FF6692\",\"#B6E880\",\"#FF97FF\",\"#FECB52\"],\"font\":{\"color\":\"#2a3f5f\"},\"geo\":{\"bgcolor\":\"white\",\"lakecolor\":\"white\",\"landcolor\":\"#E5ECF6\",\"showlakes\":true,\"showland\":true,\"subunitcolor\":\"white\"},\"hoverlabel\":{\"align\":\"left\"},\"hovermode\":\"closest\",\"mapbox\":{\"style\":\"light\"},\"paper_bgcolor\":\"white\",\"plot_bgcolor\":\"#E5ECF6\",\"polar\":{\"angularaxis\":{\"gridcolor\":\"white\",\"linecolor\":\"white\",\"ticks\":\"\"},\"bgcolor\":\"#E5ECF6\",\"radialaxis\":{\"gridcolor\":\"white\",\"linecolor\":\"white\",\"ticks\":\"\"}},\"scene\":{\"xaxis\":{\"backgroundcolor\":\"#E5ECF6\",\"gridcolor\":\"white\",\"gridwidth\":2,\"linecolor\":\"white\",\"showbackground\":true,\"ticks\":\"\",\"zerolinecolor\":\"white\"},\"yaxis\":{\"backgroundcolor\":\"#E5ECF6\",\"gridcolor\":\"white\",\"gridwidth\":2,\"linecolor\":\"white\",\"showbackground\":true,\"ticks\":\"\",\"zerolinecolor\":\"white\"},\"zaxis\":{\"backgroundcolor\":\"#E5ECF6\",\"gridcolor\":\"white\",\"gridwidth\":2,\"linecolor\":\"white\",\"showbackground\":true,\"ticks\":\"\",\"zerolinecolor\":\"white\"}},\"shapedefaults\":{\"line\":{\"color\":\"#2a3f5f\"}},\"ternary\":{\"aaxis\":{\"gridcolor\":\"white\",\"linecolor\":\"white\",\"ticks\":\"\"},\"baxis\":{\"gridcolor\":\"white\",\"linecolor\":\"white\",\"ticks\":\"\"},\"bgcolor\":\"#E5ECF6\",\"caxis\":{\"gridcolor\":\"white\",\"linecolor\":\"white\",\"ticks\":\"\"}},\"title\":{\"x\":0.05},\"xaxis\":{\"automargin\":true,\"gridcolor\":\"white\",\"linecolor\":\"white\",\"ticks\":\"\",\"title\":{\"standoff\":15},\"zerolinecolor\":\"white\",\"zerolinewidth\":2},\"yaxis\":{\"automargin\":true,\"gridcolor\":\"white\",\"linecolor\":\"white\",\"ticks\":\"\",\"title\":{\"standoff\":15},\"zerolinecolor\":\"white\",\"zerolinewidth\":2}}},\"title\":{\"text\":\"\\u0420\\u0430\\u0437\\u043c\\u0435\\u0447\\u0435\\u043d\\u043d\\u043e\\u0435 \\u0434\\u0432\\u0438\\u0436\\u0435\\u043d\\u0438\\u0435 \\u0446\\u0435\\u043d\\u044b \\u043d\\u0430 \\u0444\\u043e\\u0440\\u0432\\u0430\\u0440\\u0434\\u0435 \\u0441 \\u043f\\u0440\\u0435\\u043e\\u0431\\u0440\\u0430\\u0437\\u043e\\u0432\\u0430\\u043d\\u0438\\u0435\\u043c log > \\u043a\\u043e\\u0440\\u0435\\u043d\\u044c 3-\\u0441\\u0442\\u0435\\u043f\\u0435\\u043d\\u0438\"},\"yaxis\":{\"range\":[1465.8,1519.5]}},                        {\"responsive\": true}                    ).then(function(){\n",
              "                            \n",
              "var gd = document.getElementById('d2341d7d-2963-4a3f-a35b-d2b0a00b79ea');\n",
              "var x = new MutationObserver(function (mutations, observer) {{\n",
              "        var display = window.getComputedStyle(gd).display;\n",
              "        if (!display || display === 'none') {{\n",
              "            console.log([gd, 'removed!']);\n",
              "            Plotly.purge(gd);\n",
              "            observer.disconnect();\n",
              "        }}\n",
              "}});\n",
              "\n",
              "// Listen for the removal of the full notebook cells\n",
              "var notebookContainer = gd.closest('#notebook-container');\n",
              "if (notebookContainer) {{\n",
              "    x.observe(notebookContainer, {childList: true});\n",
              "}}\n",
              "\n",
              "// Listen for the clearing of the current output cell\n",
              "var outputEl = gd.closest('.output');\n",
              "if (outputEl) {{\n",
              "    x.observe(outputEl, {childList: true});\n",
              "}}\n",
              "\n",
              "                        })                };                            </script>        </div>\n",
              "</body>\n",
              "</html>"
            ]
          },
          "metadata": {}
        }
      ]
    }
  ]
}